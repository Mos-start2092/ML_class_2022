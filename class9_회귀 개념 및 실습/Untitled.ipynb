{
 "cells": [
  {
   "cell_type": "code",
   "execution_count": 1,
   "metadata": {},
   "outputs": [
    {
     "name": "stdout",
     "output_type": "stream",
     "text": [
      "Requirement already satisfied: rpy2 in c:\\users\\sungb\\anaconda3\\lib\\site-packages (3.4.5)\n",
      "Requirement already satisfied: tzlocal in c:\\users\\sungb\\anaconda3\\lib\\site-packages (from rpy2) (3.0)\n",
      "Requirement already satisfied: jinja2 in c:\\users\\sungb\\anaconda3\\lib\\site-packages (from rpy2) (2.11.2)\n",
      "Requirement already satisfied: pytz in c:\\users\\sungb\\anaconda3\\lib\\site-packages (from rpy2) (2020.1)\n",
      "Requirement already satisfied: cffi>=1.10.0 in c:\\users\\sungb\\anaconda3\\lib\\site-packages (from rpy2) (1.14.3)\n",
      "Requirement already satisfied: tzdata; platform_system == \"Windows\" in c:\\users\\sungb\\anaconda3\\lib\\site-packages (from tzlocal->rpy2) (2021.2.post0)\n",
      "Requirement already satisfied: backports.zoneinfo; python_version < \"3.9\" in c:\\users\\sungb\\anaconda3\\lib\\site-packages (from tzlocal->rpy2) (0.2.1)\n",
      "Requirement already satisfied: MarkupSafe>=0.23 in c:\\users\\sungb\\anaconda3\\lib\\site-packages (from jinja2->rpy2) (1.1.1)\n",
      "Requirement already satisfied: pycparser in c:\\users\\sungb\\anaconda3\\lib\\site-packages (from cffi>=1.10.0->rpy2) (2.20)\n",
      "Note: you may need to restart the kernel to use updated packages.\n"
     ]
    }
   ],
   "source": [
    "pip install rpy2"
   ]
  },
  {
   "cell_type": "code",
   "execution_count": null,
   "metadata": {},
   "outputs": [],
   "source": [
    "import rpy2.robjects as robjects\n"
   ]
  },
  {
   "cell_type": "code",
   "execution_count": null,
   "metadata": {},
   "outputs": [],
   "source": []
  }
 ],
 "metadata": {
  "kernelspec": {
   "display_name": "Python 3",
   "language": "python",
   "name": "python3"
  },
  "language_info": {
   "codemirror_mode": {
    "name": "ipython",
    "version": 3
   },
   "file_extension": ".py",
   "mimetype": "text/x-python",
   "name": "python",
   "nbconvert_exporter": "python",
   "pygments_lexer": "ipython3",
   "version": "3.8.5"
  }
 },
 "nbformat": 4,
 "nbformat_minor": 4
}
