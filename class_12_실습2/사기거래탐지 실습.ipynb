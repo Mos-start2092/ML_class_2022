{
 "cells": [
  {
   "cell_type": "markdown",
   "metadata": {},
   "source": [
    "# IEEE-CIS Fraud Detection\n",
    "\n",
    "\n",
    "- Ref : https://www.kaggle.com/c/ieee-fraud-detection/overview\n",
    "- Data Description : https://www.kaggle.com/c/ieee-fraud-detection/data\n",
    "- 문제 제공자 : IEEE Computational Intelligence Society  \n",
    "- 문제 개요 : 카드 기록을 활용한 사기 거래 탐지  \n",
    "\n",
    "- 참고  \n",
    "    - 상당히 주관이 많이 들어가있고, 왜 그렇게 생각했는지 항상 고민해보기  \n",
    "    - 데이터 컬럼이 비식별화되어 있어, 이전 문제와 다르게 **데이터 탐색을 통한 데이터에 대한 이해**가 매우 중요함\n",
    "    - 실제 competition 데이터보다 훨씬 경량화가 되어있습니다. 참고하시길 바랍니다.  \n",
    "    - 또한, 이 자료는 부산대 통계학과에서 수료한 [REN] \"Real Data를 이용한 빅데이터 분석 및 머신러닝 A to Z\" 특강을 참고하여 작성되었습니다.\n",
    "    "
   ]
  },
  {
   "cell_type": "markdown",
   "metadata": {},
   "source": [
    "# 1. 데이터 불러오기 및 기본 설정"
   ]
  },
  {
   "cell_type": "code",
   "execution_count": 1,
   "metadata": {},
   "outputs": [],
   "source": [
    "import pandas as pd\n",
    "import numpy as np\n",
    "%matplotlib inline\n",
    "import matplotlib.pyplot as plt\n",
    "plt.rcParams[\"font.family\"] = 'Malgun Gothic'\n",
    "plt.rcParams[\"font.size\"] = 15\n",
    "plt.rcParams[\"figure.figsize\"] = (20, 5)\n",
    "\n",
    "\n",
    "import warnings\n",
    "warnings.filterwarnings(\"ignore\")"
   ]
  },
  {
   "cell_type": "markdown",
   "metadata": {},
   "source": [
    "### 1.1 데이터 불러오기 및 불필요한 변수 삭제"
   ]
  },
  {
   "cell_type": "code",
   "execution_count": 11,
   "metadata": {},
   "outputs": [
    {
     "name": "stdout",
     "output_type": "stream",
     "text": [
      "(100000, 36)\n"
     ]
    }
   ],
   "source": [
    "df=pd.read_csv(\"sampled_train_transaction.csv\")\n",
    "print(df.shape)"
   ]
  },
  {
   "cell_type": "code",
   "execution_count": 12,
   "metadata": {},
   "outputs": [
    {
     "data": {
      "text/html": [
       "<div>\n",
       "<style scoped>\n",
       "    .dataframe tbody tr th:only-of-type {\n",
       "        vertical-align: middle;\n",
       "    }\n",
       "\n",
       "    .dataframe tbody tr th {\n",
       "        vertical-align: top;\n",
       "    }\n",
       "\n",
       "    .dataframe thead th {\n",
       "        text-align: right;\n",
       "    }\n",
       "</style>\n",
       "<table border=\"1\" class=\"dataframe\">\n",
       "  <thead>\n",
       "    <tr style=\"text-align: right;\">\n",
       "      <th></th>\n",
       "      <th>TransactionID</th>\n",
       "      <th>isFraud</th>\n",
       "      <th>TransactionDT</th>\n",
       "      <th>TransactionAmt</th>\n",
       "      <th>ProductCD</th>\n",
       "      <th>card1</th>\n",
       "      <th>card2</th>\n",
       "      <th>card3</th>\n",
       "      <th>card4</th>\n",
       "      <th>card5</th>\n",
       "      <th>...</th>\n",
       "      <th>C14</th>\n",
       "      <th>M1</th>\n",
       "      <th>M2</th>\n",
       "      <th>M3</th>\n",
       "      <th>M4</th>\n",
       "      <th>M5</th>\n",
       "      <th>M6</th>\n",
       "      <th>M7</th>\n",
       "      <th>M8</th>\n",
       "      <th>M9</th>\n",
       "    </tr>\n",
       "  </thead>\n",
       "  <tbody>\n",
       "    <tr>\n",
       "      <th>0</th>\n",
       "      <td>2987000</td>\n",
       "      <td>0</td>\n",
       "      <td>86400</td>\n",
       "      <td>68.500</td>\n",
       "      <td>W</td>\n",
       "      <td>13926</td>\n",
       "      <td>NaN</td>\n",
       "      <td>150.0</td>\n",
       "      <td>discover</td>\n",
       "      <td>142.0</td>\n",
       "      <td>...</td>\n",
       "      <td>1.0</td>\n",
       "      <td>T</td>\n",
       "      <td>T</td>\n",
       "      <td>T</td>\n",
       "      <td>M2</td>\n",
       "      <td>F</td>\n",
       "      <td>T</td>\n",
       "      <td>NaN</td>\n",
       "      <td>NaN</td>\n",
       "      <td>NaN</td>\n",
       "    </tr>\n",
       "    <tr>\n",
       "      <th>1</th>\n",
       "      <td>2987001</td>\n",
       "      <td>0</td>\n",
       "      <td>86401</td>\n",
       "      <td>29.000</td>\n",
       "      <td>W</td>\n",
       "      <td>2755</td>\n",
       "      <td>404.0</td>\n",
       "      <td>150.0</td>\n",
       "      <td>mastercard</td>\n",
       "      <td>102.0</td>\n",
       "      <td>...</td>\n",
       "      <td>1.0</td>\n",
       "      <td>NaN</td>\n",
       "      <td>NaN</td>\n",
       "      <td>NaN</td>\n",
       "      <td>M0</td>\n",
       "      <td>T</td>\n",
       "      <td>T</td>\n",
       "      <td>NaN</td>\n",
       "      <td>NaN</td>\n",
       "      <td>NaN</td>\n",
       "    </tr>\n",
       "    <tr>\n",
       "      <th>2</th>\n",
       "      <td>2987002</td>\n",
       "      <td>0</td>\n",
       "      <td>86469</td>\n",
       "      <td>59.000</td>\n",
       "      <td>W</td>\n",
       "      <td>4663</td>\n",
       "      <td>490.0</td>\n",
       "      <td>150.0</td>\n",
       "      <td>visa</td>\n",
       "      <td>166.0</td>\n",
       "      <td>...</td>\n",
       "      <td>1.0</td>\n",
       "      <td>T</td>\n",
       "      <td>T</td>\n",
       "      <td>T</td>\n",
       "      <td>M0</td>\n",
       "      <td>F</td>\n",
       "      <td>F</td>\n",
       "      <td>F</td>\n",
       "      <td>F</td>\n",
       "      <td>F</td>\n",
       "    </tr>\n",
       "    <tr>\n",
       "      <th>3</th>\n",
       "      <td>2987003</td>\n",
       "      <td>0</td>\n",
       "      <td>86499</td>\n",
       "      <td>50.000</td>\n",
       "      <td>W</td>\n",
       "      <td>18132</td>\n",
       "      <td>567.0</td>\n",
       "      <td>150.0</td>\n",
       "      <td>mastercard</td>\n",
       "      <td>117.0</td>\n",
       "      <td>...</td>\n",
       "      <td>1.0</td>\n",
       "      <td>NaN</td>\n",
       "      <td>NaN</td>\n",
       "      <td>NaN</td>\n",
       "      <td>M0</td>\n",
       "      <td>T</td>\n",
       "      <td>F</td>\n",
       "      <td>NaN</td>\n",
       "      <td>NaN</td>\n",
       "      <td>NaN</td>\n",
       "    </tr>\n",
       "    <tr>\n",
       "      <th>4</th>\n",
       "      <td>2987004</td>\n",
       "      <td>0</td>\n",
       "      <td>86506</td>\n",
       "      <td>50.000</td>\n",
       "      <td>H</td>\n",
       "      <td>4497</td>\n",
       "      <td>514.0</td>\n",
       "      <td>150.0</td>\n",
       "      <td>mastercard</td>\n",
       "      <td>102.0</td>\n",
       "      <td>...</td>\n",
       "      <td>1.0</td>\n",
       "      <td>NaN</td>\n",
       "      <td>NaN</td>\n",
       "      <td>NaN</td>\n",
       "      <td>NaN</td>\n",
       "      <td>NaN</td>\n",
       "      <td>NaN</td>\n",
       "      <td>NaN</td>\n",
       "      <td>NaN</td>\n",
       "      <td>NaN</td>\n",
       "    </tr>\n",
       "    <tr>\n",
       "      <th>...</th>\n",
       "      <td>...</td>\n",
       "      <td>...</td>\n",
       "      <td>...</td>\n",
       "      <td>...</td>\n",
       "      <td>...</td>\n",
       "      <td>...</td>\n",
       "      <td>...</td>\n",
       "      <td>...</td>\n",
       "      <td>...</td>\n",
       "      <td>...</td>\n",
       "      <td>...</td>\n",
       "      <td>...</td>\n",
       "      <td>...</td>\n",
       "      <td>...</td>\n",
       "      <td>...</td>\n",
       "      <td>...</td>\n",
       "      <td>...</td>\n",
       "      <td>...</td>\n",
       "      <td>...</td>\n",
       "      <td>...</td>\n",
       "      <td>...</td>\n",
       "    </tr>\n",
       "    <tr>\n",
       "      <th>99995</th>\n",
       "      <td>3086995</td>\n",
       "      <td>0</td>\n",
       "      <td>2005989</td>\n",
       "      <td>55.385</td>\n",
       "      <td>C</td>\n",
       "      <td>2256</td>\n",
       "      <td>545.0</td>\n",
       "      <td>185.0</td>\n",
       "      <td>visa</td>\n",
       "      <td>226.0</td>\n",
       "      <td>...</td>\n",
       "      <td>1.0</td>\n",
       "      <td>NaN</td>\n",
       "      <td>NaN</td>\n",
       "      <td>NaN</td>\n",
       "      <td>M2</td>\n",
       "      <td>NaN</td>\n",
       "      <td>NaN</td>\n",
       "      <td>NaN</td>\n",
       "      <td>NaN</td>\n",
       "      <td>NaN</td>\n",
       "    </tr>\n",
       "    <tr>\n",
       "      <th>99996</th>\n",
       "      <td>3086996</td>\n",
       "      <td>0</td>\n",
       "      <td>2006074</td>\n",
       "      <td>117.000</td>\n",
       "      <td>W</td>\n",
       "      <td>2518</td>\n",
       "      <td>555.0</td>\n",
       "      <td>150.0</td>\n",
       "      <td>visa</td>\n",
       "      <td>226.0</td>\n",
       "      <td>...</td>\n",
       "      <td>2.0</td>\n",
       "      <td>NaN</td>\n",
       "      <td>NaN</td>\n",
       "      <td>NaN</td>\n",
       "      <td>M0</td>\n",
       "      <td>F</td>\n",
       "      <td>F</td>\n",
       "      <td>NaN</td>\n",
       "      <td>NaN</td>\n",
       "      <td>NaN</td>\n",
       "    </tr>\n",
       "    <tr>\n",
       "      <th>99997</th>\n",
       "      <td>3086997</td>\n",
       "      <td>0</td>\n",
       "      <td>2006135</td>\n",
       "      <td>50.000</td>\n",
       "      <td>S</td>\n",
       "      <td>2748</td>\n",
       "      <td>111.0</td>\n",
       "      <td>150.0</td>\n",
       "      <td>visa</td>\n",
       "      <td>228.0</td>\n",
       "      <td>...</td>\n",
       "      <td>1.0</td>\n",
       "      <td>NaN</td>\n",
       "      <td>NaN</td>\n",
       "      <td>NaN</td>\n",
       "      <td>NaN</td>\n",
       "      <td>NaN</td>\n",
       "      <td>NaN</td>\n",
       "      <td>NaN</td>\n",
       "      <td>NaN</td>\n",
       "      <td>NaN</td>\n",
       "    </tr>\n",
       "    <tr>\n",
       "      <th>99998</th>\n",
       "      <td>3086998</td>\n",
       "      <td>0</td>\n",
       "      <td>2006177</td>\n",
       "      <td>100.000</td>\n",
       "      <td>H</td>\n",
       "      <td>16075</td>\n",
       "      <td>514.0</td>\n",
       "      <td>150.0</td>\n",
       "      <td>mastercard</td>\n",
       "      <td>102.0</td>\n",
       "      <td>...</td>\n",
       "      <td>1.0</td>\n",
       "      <td>NaN</td>\n",
       "      <td>NaN</td>\n",
       "      <td>NaN</td>\n",
       "      <td>NaN</td>\n",
       "      <td>NaN</td>\n",
       "      <td>NaN</td>\n",
       "      <td>NaN</td>\n",
       "      <td>NaN</td>\n",
       "      <td>NaN</td>\n",
       "    </tr>\n",
       "    <tr>\n",
       "      <th>99999</th>\n",
       "      <td>3086999</td>\n",
       "      <td>0</td>\n",
       "      <td>2006364</td>\n",
       "      <td>107.950</td>\n",
       "      <td>W</td>\n",
       "      <td>4436</td>\n",
       "      <td>174.0</td>\n",
       "      <td>150.0</td>\n",
       "      <td>visa</td>\n",
       "      <td>226.0</td>\n",
       "      <td>...</td>\n",
       "      <td>110.0</td>\n",
       "      <td>T</td>\n",
       "      <td>T</td>\n",
       "      <td>T</td>\n",
       "      <td>NaN</td>\n",
       "      <td>NaN</td>\n",
       "      <td>T</td>\n",
       "      <td>NaN</td>\n",
       "      <td>NaN</td>\n",
       "      <td>NaN</td>\n",
       "    </tr>\n",
       "  </tbody>\n",
       "</table>\n",
       "<p>100000 rows × 36 columns</p>\n",
       "</div>"
      ],
      "text/plain": [
       "       TransactionID  isFraud  TransactionDT  TransactionAmt ProductCD  card1  \\\n",
       "0            2987000        0          86400          68.500         W  13926   \n",
       "1            2987001        0          86401          29.000         W   2755   \n",
       "2            2987002        0          86469          59.000         W   4663   \n",
       "3            2987003        0          86499          50.000         W  18132   \n",
       "4            2987004        0          86506          50.000         H   4497   \n",
       "...              ...      ...            ...             ...       ...    ...   \n",
       "99995        3086995        0        2005989          55.385         C   2256   \n",
       "99996        3086996        0        2006074         117.000         W   2518   \n",
       "99997        3086997        0        2006135          50.000         S   2748   \n",
       "99998        3086998        0        2006177         100.000         H  16075   \n",
       "99999        3086999        0        2006364         107.950         W   4436   \n",
       "\n",
       "       card2  card3       card4  card5  ...    C14   M1   M2   M3   M4   M5  \\\n",
       "0        NaN  150.0    discover  142.0  ...    1.0    T    T    T   M2    F   \n",
       "1      404.0  150.0  mastercard  102.0  ...    1.0  NaN  NaN  NaN   M0    T   \n",
       "2      490.0  150.0        visa  166.0  ...    1.0    T    T    T   M0    F   \n",
       "3      567.0  150.0  mastercard  117.0  ...    1.0  NaN  NaN  NaN   M0    T   \n",
       "4      514.0  150.0  mastercard  102.0  ...    1.0  NaN  NaN  NaN  NaN  NaN   \n",
       "...      ...    ...         ...    ...  ...    ...  ...  ...  ...  ...  ...   \n",
       "99995  545.0  185.0        visa  226.0  ...    1.0  NaN  NaN  NaN   M2  NaN   \n",
       "99996  555.0  150.0        visa  226.0  ...    2.0  NaN  NaN  NaN   M0    F   \n",
       "99997  111.0  150.0        visa  228.0  ...    1.0  NaN  NaN  NaN  NaN  NaN   \n",
       "99998  514.0  150.0  mastercard  102.0  ...    1.0  NaN  NaN  NaN  NaN  NaN   \n",
       "99999  174.0  150.0        visa  226.0  ...  110.0    T    T    T  NaN  NaN   \n",
       "\n",
       "        M6   M7   M8   M9  \n",
       "0        T  NaN  NaN  NaN  \n",
       "1        T  NaN  NaN  NaN  \n",
       "2        F    F    F    F  \n",
       "3        F  NaN  NaN  NaN  \n",
       "4      NaN  NaN  NaN  NaN  \n",
       "...    ...  ...  ...  ...  \n",
       "99995  NaN  NaN  NaN  NaN  \n",
       "99996    F  NaN  NaN  NaN  \n",
       "99997  NaN  NaN  NaN  NaN  \n",
       "99998  NaN  NaN  NaN  NaN  \n",
       "99999    T  NaN  NaN  NaN  \n",
       "\n",
       "[100000 rows x 36 columns]"
      ]
     },
     "execution_count": 12,
     "metadata": {},
     "output_type": "execute_result"
    }
   ],
   "source": [
    "df"
   ]
  },
  {
   "cell_type": "markdown",
   "metadata": {},
   "source": [
    "- 비식별화된 Feature 들이 매우 많음\n",
    "- 다수 결측이 포함되어 있음\n",
    "- Imbalanced 문제가 존재함"
   ]
  },
  {
   "attachments": {
    "image.png": {
     "image/png": "[encoded data removed]"
    }
   },
   "cell_type": "markdown",
   "metadata": {},
   "source": [
    "![image.png](attachment:image.png)"
   ]
  },
  {
   "cell_type": "markdown",
   "metadata": {},
   "source": [
    "# Train_Test split"
   ]
  },
  {
   "cell_type": "code",
   "execution_count": 14,
   "metadata": {},
   "outputs": [],
   "source": [
    "X = df.drop(['isFraud'], axis = 1)\n",
    "Y = df['isFraud']\n",
    "\n",
    "from sklearn.model_selection import train_test_split\n",
    "Train_X, Test_X, Train_Y, Test_Y = train_test_split(X, Y, random_state = 42)"
   ]
  },
  {
   "cell_type": "markdown",
   "metadata": {},
   "source": [
    "# Train -> 분석 시작"
   ]
  },
  {
   "cell_type": "code",
   "execution_count": 15,
   "metadata": {},
   "outputs": [],
   "source": [
    "Train=pd.concat([Train_X, Train_Y], axis = 1)"
   ]
  },
  {
   "cell_type": "code",
   "execution_count": 16,
   "metadata": {},
   "outputs": [
    {
     "data": {
      "text/html": [
       "<div>\n",
       "<style scoped>\n",
       "    .dataframe tbody tr th:only-of-type {\n",
       "        vertical-align: middle;\n",
       "    }\n",
       "\n",
       "    .dataframe tbody tr th {\n",
       "        vertical-align: top;\n",
       "    }\n",
       "\n",
       "    .dataframe thead th {\n",
       "        text-align: right;\n",
       "    }\n",
       "</style>\n",
       "<table border=\"1\" class=\"dataframe\">\n",
       "  <thead>\n",
       "    <tr style=\"text-align: right;\">\n",
       "      <th></th>\n",
       "      <th>TransactionID</th>\n",
       "      <th>TransactionDT</th>\n",
       "      <th>TransactionAmt</th>\n",
       "      <th>ProductCD</th>\n",
       "      <th>card1</th>\n",
       "      <th>card2</th>\n",
       "      <th>card3</th>\n",
       "      <th>card4</th>\n",
       "      <th>card5</th>\n",
       "      <th>card6</th>\n",
       "      <th>...</th>\n",
       "      <th>M1</th>\n",
       "      <th>M2</th>\n",
       "      <th>M3</th>\n",
       "      <th>M4</th>\n",
       "      <th>M5</th>\n",
       "      <th>M6</th>\n",
       "      <th>M7</th>\n",
       "      <th>M8</th>\n",
       "      <th>M9</th>\n",
       "      <th>isFraud</th>\n",
       "    </tr>\n",
       "  </thead>\n",
       "  <tbody>\n",
       "    <tr>\n",
       "      <th>98980</th>\n",
       "      <td>3085980</td>\n",
       "      <td>1990532</td>\n",
       "      <td>35.00</td>\n",
       "      <td>H</td>\n",
       "      <td>13906</td>\n",
       "      <td>369.0</td>\n",
       "      <td>150.0</td>\n",
       "      <td>mastercard</td>\n",
       "      <td>117.0</td>\n",
       "      <td>debit</td>\n",
       "      <td>...</td>\n",
       "      <td>NaN</td>\n",
       "      <td>NaN</td>\n",
       "      <td>NaN</td>\n",
       "      <td>NaN</td>\n",
       "      <td>NaN</td>\n",
       "      <td>NaN</td>\n",
       "      <td>NaN</td>\n",
       "      <td>NaN</td>\n",
       "      <td>NaN</td>\n",
       "      <td>0</td>\n",
       "    </tr>\n",
       "    <tr>\n",
       "      <th>69824</th>\n",
       "      <td>3056824</td>\n",
       "      <td>1562322</td>\n",
       "      <td>155.21</td>\n",
       "      <td>W</td>\n",
       "      <td>7508</td>\n",
       "      <td>321.0</td>\n",
       "      <td>150.0</td>\n",
       "      <td>visa</td>\n",
       "      <td>226.0</td>\n",
       "      <td>debit</td>\n",
       "      <td>...</td>\n",
       "      <td>T</td>\n",
       "      <td>T</td>\n",
       "      <td>T</td>\n",
       "      <td>NaN</td>\n",
       "      <td>NaN</td>\n",
       "      <td>NaN</td>\n",
       "      <td>T</td>\n",
       "      <td>T</td>\n",
       "      <td>T</td>\n",
       "      <td>0</td>\n",
       "    </tr>\n",
       "    <tr>\n",
       "      <th>9928</th>\n",
       "      <td>2996928</td>\n",
       "      <td>310922</td>\n",
       "      <td>31.96</td>\n",
       "      <td>W</td>\n",
       "      <td>1310</td>\n",
       "      <td>206.0</td>\n",
       "      <td>150.0</td>\n",
       "      <td>mastercard</td>\n",
       "      <td>166.0</td>\n",
       "      <td>debit</td>\n",
       "      <td>...</td>\n",
       "      <td>NaN</td>\n",
       "      <td>NaN</td>\n",
       "      <td>NaN</td>\n",
       "      <td>NaN</td>\n",
       "      <td>NaN</td>\n",
       "      <td>T</td>\n",
       "      <td>NaN</td>\n",
       "      <td>NaN</td>\n",
       "      <td>NaN</td>\n",
       "      <td>0</td>\n",
       "    </tr>\n",
       "    <tr>\n",
       "      <th>75599</th>\n",
       "      <td>3062599</td>\n",
       "      <td>1649573</td>\n",
       "      <td>250.00</td>\n",
       "      <td>R</td>\n",
       "      <td>7526</td>\n",
       "      <td>520.0</td>\n",
       "      <td>150.0</td>\n",
       "      <td>american express</td>\n",
       "      <td>190.0</td>\n",
       "      <td>credit</td>\n",
       "      <td>...</td>\n",
       "      <td>NaN</td>\n",
       "      <td>NaN</td>\n",
       "      <td>NaN</td>\n",
       "      <td>NaN</td>\n",
       "      <td>NaN</td>\n",
       "      <td>NaN</td>\n",
       "      <td>NaN</td>\n",
       "      <td>NaN</td>\n",
       "      <td>NaN</td>\n",
       "      <td>0</td>\n",
       "    </tr>\n",
       "    <tr>\n",
       "      <th>95621</th>\n",
       "      <td>3082621</td>\n",
       "      <td>1964876</td>\n",
       "      <td>59.00</td>\n",
       "      <td>W</td>\n",
       "      <td>1906</td>\n",
       "      <td>199.0</td>\n",
       "      <td>150.0</td>\n",
       "      <td>mastercard</td>\n",
       "      <td>224.0</td>\n",
       "      <td>debit</td>\n",
       "      <td>...</td>\n",
       "      <td>T</td>\n",
       "      <td>T</td>\n",
       "      <td>F</td>\n",
       "      <td>M1</td>\n",
       "      <td>F</td>\n",
       "      <td>F</td>\n",
       "      <td>T</td>\n",
       "      <td>T</td>\n",
       "      <td>T</td>\n",
       "      <td>0</td>\n",
       "    </tr>\n",
       "  </tbody>\n",
       "</table>\n",
       "<p>5 rows × 36 columns</p>\n",
       "</div>"
      ],
      "text/plain": [
       "       TransactionID  TransactionDT  TransactionAmt ProductCD  card1  card2  \\\n",
       "98980        3085980        1990532           35.00         H  13906  369.0   \n",
       "69824        3056824        1562322          155.21         W   7508  321.0   \n",
       "9928         2996928         310922           31.96         W   1310  206.0   \n",
       "75599        3062599        1649573          250.00         R   7526  520.0   \n",
       "95621        3082621        1964876           59.00         W   1906  199.0   \n",
       "\n",
       "       card3             card4  card5   card6  ...   M1   M2   M3   M4   M5  \\\n",
       "98980  150.0        mastercard  117.0   debit  ...  NaN  NaN  NaN  NaN  NaN   \n",
       "69824  150.0              visa  226.0   debit  ...    T    T    T  NaN  NaN   \n",
       "9928   150.0        mastercard  166.0   debit  ...  NaN  NaN  NaN  NaN  NaN   \n",
       "75599  150.0  american express  190.0  credit  ...  NaN  NaN  NaN  NaN  NaN   \n",
       "95621  150.0        mastercard  224.0   debit  ...    T    T    F   M1    F   \n",
       "\n",
       "        M6   M7   M8   M9  isFraud  \n",
       "98980  NaN  NaN  NaN  NaN        0  \n",
       "69824  NaN    T    T    T        0  \n",
       "9928     T  NaN  NaN  NaN        0  \n",
       "75599  NaN  NaN  NaN  NaN        0  \n",
       "95621    F    T    T    T        0  \n",
       "\n",
       "[5 rows x 36 columns]"
      ]
     },
     "execution_count": 16,
     "metadata": {},
     "output_type": "execute_result"
    }
   ],
   "source": [
    "Train.head()"
   ]
  },
  {
   "cell_type": "code",
   "execution_count": 17,
   "metadata": {},
   "outputs": [
    {
     "data": {
      "text/plain": [
       "Index(['TransactionID', 'TransactionDT', 'TransactionAmt', 'ProductCD',\n",
       "       'card1', 'card2', 'card3', 'card4', 'card5', 'card6', 'P_emaildomain',\n",
       "       'R_emaildomain', 'C1', 'C2', 'C3', 'C4', 'C5', 'C6', 'C7', 'C8', 'C9',\n",
       "       'C10', 'C11', 'C12', 'C13', 'C14', 'M1', 'M2', 'M3', 'M4', 'M5', 'M6',\n",
       "       'M7', 'M8', 'M9', 'isFraud'],\n",
       "      dtype='object')"
      ]
     },
     "execution_count": 17,
     "metadata": {},
     "output_type": "execute_result"
    }
   ],
   "source": [
    "Train.columns"
   ]
  },
  {
   "cell_type": "code",
   "execution_count": 18,
   "metadata": {},
   "outputs": [
    {
     "data": {
      "text/plain": [
       "0.026053333333333335"
      ]
     },
     "execution_count": 18,
     "metadata": {},
     "output_type": "execute_result"
    }
   ],
   "source": [
    "Train.isFraud.mean()"
   ]
  },
  {
   "cell_type": "code",
   "execution_count": 19,
   "metadata": {},
   "outputs": [
    {
     "name": "stdout",
     "output_type": "stream",
     "text": [
      "<class 'pandas.core.frame.DataFrame'>\n",
      "Int64Index: 75000 entries, 98980 to 15795\n",
      "Data columns (total 36 columns):\n",
      " #   Column          Non-Null Count  Dtype  \n",
      "---  ------          --------------  -----  \n",
      " 0   TransactionID   75000 non-null  int64  \n",
      " 1   TransactionDT   75000 non-null  int64  \n",
      " 2   TransactionAmt  75000 non-null  float64\n",
      " 3   ProductCD       75000 non-null  object \n",
      " 4   card1           75000 non-null  int64  \n",
      " 5   card2           73971 non-null  float64\n",
      " 6   card3           74997 non-null  float64\n",
      " 7   card4           74994 non-null  object \n",
      " 8   card5           74599 non-null  float64\n",
      " 9   card6           74996 non-null  object \n",
      " 10  P_emaildomain   63425 non-null  object \n",
      " 11  R_emaildomain   25944 non-null  object \n",
      " 12  C1              75000 non-null  float64\n",
      " 13  C2              75000 non-null  float64\n",
      " 14  C3              75000 non-null  float64\n",
      " 15  C4              75000 non-null  float64\n",
      " 16  C5              75000 non-null  float64\n",
      " 17  C6              75000 non-null  float64\n",
      " 18  C7              75000 non-null  float64\n",
      " 19  C8              75000 non-null  float64\n",
      " 20  C9              75000 non-null  float64\n",
      " 21  C10             75000 non-null  float64\n",
      " 22  C11             75000 non-null  float64\n",
      " 23  C12             75000 non-null  float64\n",
      " 24  C13             75000 non-null  float64\n",
      " 25  C14             75000 non-null  float64\n",
      " 26  M1              23679 non-null  object \n",
      " 27  M2              23679 non-null  object \n",
      " 28  M3              23679 non-null  object \n",
      " 29  M4              31887 non-null  object \n",
      " 30  M5              23380 non-null  object \n",
      " 31  M6              40768 non-null  object \n",
      " 32  M7              12098 non-null  object \n",
      " 33  M8              12098 non-null  object \n",
      " 34  M9              12098 non-null  object \n",
      " 35  isFraud         75000 non-null  int64  \n",
      "dtypes: float64(18), int64(4), object(14)\n",
      "memory usage: 21.2+ MB\n"
     ]
    }
   ],
   "source": [
    "Train.info()"
   ]
  },
  {
   "cell_type": "code",
   "execution_count": 20,
   "metadata": {},
   "outputs": [],
   "source": [
    "Train.drop(['TransactionID', 'TransactionDT'], axis = 1, inplace = True) # 도메인 지식하에, 불필요한 변수라 판단하여 삭제"
   ]
  },
  {
   "cell_type": "markdown",
   "metadata": {},
   "source": [
    "# 2. 변수 탐색"
   ]
  },
  {
   "cell_type": "markdown",
   "metadata": {},
   "source": [
    "### 2.1 타겟 비율 확인\n",
    "- value_counts() 함수 -> 라벨(target) 분포 확인\n",
    "- 사기 거래가 아닌 거래가 전체 거래의 97.4% \n",
    "- 클래스 불균형 문제가 발생할 확률 높음"
   ]
  },
  {
   "cell_type": "code",
   "execution_count": 21,
   "metadata": {},
   "outputs": [],
   "source": [
    "Train_X = Train.drop(['isFraud'], axis = 1)\n",
    "Train_Y = Train['isFraud']"
   ]
  },
  {
   "cell_type": "code",
   "execution_count": 22,
   "metadata": {},
   "outputs": [
    {
     "data": {
      "text/plain": [
       "0    0.973947\n",
       "1    0.026053\n",
       "Name: isFraud, dtype: float64"
      ]
     },
     "execution_count": 22,
     "metadata": {},
     "output_type": "execute_result"
    }
   ],
   "source": [
    "Train_Y.value_counts(normalize=True)"
   ]
  },
  {
   "cell_type": "code",
   "execution_count": 23,
   "metadata": {},
   "outputs": [
    {
     "data": {
      "text/plain": [
       "0    0.97572\n",
       "1    0.02428\n",
       "Name: isFraud, dtype: float64"
      ]
     },
     "execution_count": 23,
     "metadata": {},
     "output_type": "execute_result"
    }
   ],
   "source": [
    "Test_Y.value_counts(normalize=True)"
   ]
  },
  {
   "cell_type": "markdown",
   "metadata": {},
   "source": [
    "### 2.2 변수별 값 정보 및 샘플 확인 : 컬럼별 유니크한 값 일부 확인\n",
    "- Train_X에 포함된 모든 Column에 대해 Type, NaN수, nunique, unique sample를 확인  \n",
    "- 이를 바탕으로 결측이 포함된 변수와 그렇지 않은 변수, 연속형 변수와 범주형 변수를 구분  "
   ]
  },
  {
   "cell_type": "code",
   "execution_count": 24,
   "metadata": {},
   "outputs": [
    {
     "name": "stdout",
     "output_type": "stream",
     "text": [
      "변수: TransactionAmt, 타입: float64, 결측 개수: 0, Category 수: 5442, Categories Samples: [ 35.   155.21  31.96 250.    59.  ]\n",
      "변수: ProductCD, 타입: object, 결측 개수: 0, Category 수: 5, Categories Samples: ['H' 'W' 'R' 'C' 'S']\n",
      "변수: card1, 타입: int64, 결측 개수: 0, Category 수: 6843, Categories Samples: [13906  7508  1310  7526  1906]\n",
      "변수: card2, 타입: float64, 결측 개수: 1029, Category 수: 497, Categories Samples: [369. 321. 206. 520. 199.]\n",
      "변수: card3, 타입: float64, 결측 개수: 3, Category 수: 72, Categories Samples: [150. 185. 190. 144. 147.]\n",
      "변수: card4, 타입: object, 결측 개수: 6, Category 수: 4, Categories Samples: ['mastercard' 'visa' 'american express' 'discover' nan]\n",
      "변수: card5, 타입: float64, 결측 개수: 401, Category 수: 82, Categories Samples: [117. 226. 166. 190. 224.]\n",
      "변수: card6, 타입: object, 결측 개수: 4, Category 수: 4, Categories Samples: ['debit' 'credit' 'debit or credit' nan 'charge card']\n",
      "변수: P_emaildomain, 타입: object, 결측 개수: 11575, Category 수: 59, Categories Samples: ['aol.com' 'anonymous.com' 'gmail.com' 'yahoo.com' nan]\n",
      "변수: R_emaildomain, 타입: object, 결측 개수: 49056, Category 수: 59, Categories Samples: [nan 'anonymous.com' 'yahoo.com' 'gmail.com' 'msn.com']\n",
      "변수: C1, 타입: float64, 결측 개수: 0, Category 수: 1244, Categories Samples: [  1.  50.   2. 106. 241.]\n",
      "변수: C2, 타입: float64, 결측 개수: 0, Category 수: 812, Categories Samples: [ 1.  2. 35.  3. 85.]\n",
      "변수: C3, 타입: float64, 결측 개수: 0, Category 수: 7, Categories Samples: [0. 1. 2. 3. 4.]\n",
      "변수: C4, 타입: float64, 결측 개수: 0, Category 수: 980, Categories Samples: [ 0.  1. 14.  5.  2.]\n",
      "변수: C5, 타입: float64, 결측 개수: 0, Category 수: 246, Categories Samples: [  0.   1.  25.  99. 157.]\n",
      "변수: C6, 타입: float64, 결측 개수: 0, Category 수: 1066, Categories Samples: [ 1.  2. 28.  0. 58.]\n",
      "변수: C7, 타입: float64, 결측 개수: 0, Category 수: 860, Categories Samples: [0.000e+00 1.000e+00 1.400e+01 2.000e+00 1.161e+03]\n",
      "변수: C8, 타입: float64, 결측 개수: 0, Category 수: 933, Categories Samples: [ 0.  2.  1.  3. 21.]\n",
      "변수: C9, 타입: float64, 결측 개수: 0, Category 수: 166, Categories Samples: [ 0.  1. 27.  2. 59.]\n",
      "변수: C10, 타입: float64, 결측 개수: 0, Category 수: 889, Categories Samples: [ 0.  1.  2.  3. 39.]\n",
      "변수: C11, 타입: float64, 결측 개수: 0, Category 수: 1137, Categories Samples: [  1.  28.   2.  58. 159.]\n",
      "변수: C12, 타입: float64, 결측 개수: 0, Category 수: 889, Categories Samples: [ 0.  2.  1. 20.  3.]\n",
      "변수: C13, 타입: float64, 결측 개수: 0, Category 수: 1307, Categories Samples: [  1.  28. 133.   2.   6.]\n",
      "변수: C14, 타입: float64, 결측 개수: 0, Category 수: 934, Categories Samples: [ 1. 33.  2.  0. 96.]\n",
      "변수: M1, 타입: object, 결측 개수: 51321, Category 수: 1, Categories Samples: [nan 'T']\n",
      "변수: M2, 타입: object, 결측 개수: 51321, Category 수: 2, Categories Samples: [nan 'T' 'F']\n",
      "변수: M3, 타입: object, 결측 개수: 51321, Category 수: 2, Categories Samples: [nan 'T' 'F']\n",
      "변수: M4, 타입: object, 결측 개수: 43113, Category 수: 3, Categories Samples: [nan 'M1' 'M0' 'M2']\n",
      "변수: M5, 타입: object, 결측 개수: 51620, Category 수: 2, Categories Samples: [nan 'F' 'T']\n",
      "변수: M6, 타입: object, 결측 개수: 34232, Category 수: 2, Categories Samples: [nan 'T' 'F']\n",
      "변수: M7, 타입: object, 결측 개수: 62902, Category 수: 2, Categories Samples: [nan 'T' 'F']\n",
      "변수: M8, 타입: object, 결측 개수: 62902, Category 수: 2, Categories Samples: [nan 'T' 'F']\n",
      "변수: M9, 타입: object, 결측 개수: 62902, Category 수: 2, Categories Samples: [nan 'T' 'F']\n"
     ]
    }
   ],
   "source": [
    "for col in Train_X.columns:\n",
    "    print(\"변수: {}, 타입: {}, 결측 개수: {}, Category 수: {}, Categories Samples: {}\".format(col, Train_X[col].dtype, Train_X[col].isnull().sum(), Train_X[col].nunique(), Train_X[col].unique()[:5]))"
   ]
  },
  {
   "cell_type": "markdown",
   "metadata": {},
   "source": [
    "#### 탐색 내용 <br>\n",
    "- TransactionAmt는 연속형 변수임이 확실해보임 (히스토그램 등으로 확인)\n",
    "- ProductCD, card4, card6은 범주형 변수임이 확실해보임 (결측 포함)\n",
    "- P_emaildomain, R_emaildomain은 구매자의 이메일 도메인으로 보임. 직관적으로 봤을 때, 유의한 의미가 있을지 의심되며, 둘은 관계가 있을 것으로 보임\n",
    "- card1, card2, card3, card5은 연속형 변수임이 확실해보임 (히스토그램 등으로 확인)\n",
    "- 많은 변수에서 결측이 포함되어 있음\n",
    "- C3를 제외한 C1 ~ C14는 모두 연속형 변수인 것으로 보임. 비식별화되어 있어 대략적인 의미라도 추측을 해야 함\n",
    "- 결측이 매우 많아, 곧바로 제거 또는 대체하기에는 부담이 있어, 결측 분포 확인 필요\n",
    "- M1 ~ M9는 매칭 정보이며, 전부 범주형 변수임이 확실함. T는 매칭됨, F는 매칭되지 않음을 나타내는 것으로 보이며, 모두 결측이 포함"
   ]
  },
  {
   "cell_type": "markdown",
   "metadata": {},
   "source": [
    "### 2.3 탐색을 위한 데이터 준비 : 특징과 타겟(label,target)데이터 병합"
   ]
  },
  {
   "cell_type": "code",
   "execution_count": 25,
   "metadata": {},
   "outputs": [
    {
     "data": {
      "text/html": [
       "<div>\n",
       "<style scoped>\n",
       "    .dataframe tbody tr th:only-of-type {\n",
       "        vertical-align: middle;\n",
       "    }\n",
       "\n",
       "    .dataframe tbody tr th {\n",
       "        vertical-align: top;\n",
       "    }\n",
       "\n",
       "    .dataframe thead th {\n",
       "        text-align: right;\n",
       "    }\n",
       "</style>\n",
       "<table border=\"1\" class=\"dataframe\">\n",
       "  <thead>\n",
       "    <tr style=\"text-align: right;\">\n",
       "      <th></th>\n",
       "      <th>TransactionAmt</th>\n",
       "      <th>ProductCD</th>\n",
       "      <th>card1</th>\n",
       "      <th>card2</th>\n",
       "      <th>card3</th>\n",
       "      <th>card4</th>\n",
       "      <th>card5</th>\n",
       "      <th>card6</th>\n",
       "      <th>P_emaildomain</th>\n",
       "      <th>R_emaildomain</th>\n",
       "      <th>...</th>\n",
       "      <th>M1</th>\n",
       "      <th>M2</th>\n",
       "      <th>M3</th>\n",
       "      <th>M4</th>\n",
       "      <th>M5</th>\n",
       "      <th>M6</th>\n",
       "      <th>M7</th>\n",
       "      <th>M8</th>\n",
       "      <th>M9</th>\n",
       "      <th>isFraud</th>\n",
       "    </tr>\n",
       "  </thead>\n",
       "  <tbody>\n",
       "    <tr>\n",
       "      <th>98980</th>\n",
       "      <td>35.00</td>\n",
       "      <td>H</td>\n",
       "      <td>13906</td>\n",
       "      <td>369.0</td>\n",
       "      <td>150.0</td>\n",
       "      <td>mastercard</td>\n",
       "      <td>117.0</td>\n",
       "      <td>debit</td>\n",
       "      <td>aol.com</td>\n",
       "      <td>NaN</td>\n",
       "      <td>...</td>\n",
       "      <td>NaN</td>\n",
       "      <td>NaN</td>\n",
       "      <td>NaN</td>\n",
       "      <td>NaN</td>\n",
       "      <td>NaN</td>\n",
       "      <td>NaN</td>\n",
       "      <td>NaN</td>\n",
       "      <td>NaN</td>\n",
       "      <td>NaN</td>\n",
       "      <td>0</td>\n",
       "    </tr>\n",
       "    <tr>\n",
       "      <th>69824</th>\n",
       "      <td>155.21</td>\n",
       "      <td>W</td>\n",
       "      <td>7508</td>\n",
       "      <td>321.0</td>\n",
       "      <td>150.0</td>\n",
       "      <td>visa</td>\n",
       "      <td>226.0</td>\n",
       "      <td>debit</td>\n",
       "      <td>anonymous.com</td>\n",
       "      <td>NaN</td>\n",
       "      <td>...</td>\n",
       "      <td>T</td>\n",
       "      <td>T</td>\n",
       "      <td>T</td>\n",
       "      <td>NaN</td>\n",
       "      <td>NaN</td>\n",
       "      <td>NaN</td>\n",
       "      <td>T</td>\n",
       "      <td>T</td>\n",
       "      <td>T</td>\n",
       "      <td>0</td>\n",
       "    </tr>\n",
       "    <tr>\n",
       "      <th>9928</th>\n",
       "      <td>31.96</td>\n",
       "      <td>W</td>\n",
       "      <td>1310</td>\n",
       "      <td>206.0</td>\n",
       "      <td>150.0</td>\n",
       "      <td>mastercard</td>\n",
       "      <td>166.0</td>\n",
       "      <td>debit</td>\n",
       "      <td>gmail.com</td>\n",
       "      <td>NaN</td>\n",
       "      <td>...</td>\n",
       "      <td>NaN</td>\n",
       "      <td>NaN</td>\n",
       "      <td>NaN</td>\n",
       "      <td>NaN</td>\n",
       "      <td>NaN</td>\n",
       "      <td>T</td>\n",
       "      <td>NaN</td>\n",
       "      <td>NaN</td>\n",
       "      <td>NaN</td>\n",
       "      <td>0</td>\n",
       "    </tr>\n",
       "    <tr>\n",
       "      <th>75599</th>\n",
       "      <td>250.00</td>\n",
       "      <td>R</td>\n",
       "      <td>7526</td>\n",
       "      <td>520.0</td>\n",
       "      <td>150.0</td>\n",
       "      <td>american express</td>\n",
       "      <td>190.0</td>\n",
       "      <td>credit</td>\n",
       "      <td>anonymous.com</td>\n",
       "      <td>anonymous.com</td>\n",
       "      <td>...</td>\n",
       "      <td>NaN</td>\n",
       "      <td>NaN</td>\n",
       "      <td>NaN</td>\n",
       "      <td>NaN</td>\n",
       "      <td>NaN</td>\n",
       "      <td>NaN</td>\n",
       "      <td>NaN</td>\n",
       "      <td>NaN</td>\n",
       "      <td>NaN</td>\n",
       "      <td>0</td>\n",
       "    </tr>\n",
       "    <tr>\n",
       "      <th>95621</th>\n",
       "      <td>59.00</td>\n",
       "      <td>W</td>\n",
       "      <td>1906</td>\n",
       "      <td>199.0</td>\n",
       "      <td>150.0</td>\n",
       "      <td>mastercard</td>\n",
       "      <td>224.0</td>\n",
       "      <td>debit</td>\n",
       "      <td>gmail.com</td>\n",
       "      <td>NaN</td>\n",
       "      <td>...</td>\n",
       "      <td>T</td>\n",
       "      <td>T</td>\n",
       "      <td>F</td>\n",
       "      <td>M1</td>\n",
       "      <td>F</td>\n",
       "      <td>F</td>\n",
       "      <td>T</td>\n",
       "      <td>T</td>\n",
       "      <td>T</td>\n",
       "      <td>0</td>\n",
       "    </tr>\n",
       "  </tbody>\n",
       "</table>\n",
       "<p>5 rows × 34 columns</p>\n",
       "</div>"
      ],
      "text/plain": [
       "       TransactionAmt ProductCD  card1  card2  card3             card4  card5  \\\n",
       "98980           35.00         H  13906  369.0  150.0        mastercard  117.0   \n",
       "69824          155.21         W   7508  321.0  150.0              visa  226.0   \n",
       "9928            31.96         W   1310  206.0  150.0        mastercard  166.0   \n",
       "75599          250.00         R   7526  520.0  150.0  american express  190.0   \n",
       "95621           59.00         W   1906  199.0  150.0        mastercard  224.0   \n",
       "\n",
       "        card6  P_emaildomain  R_emaildomain  ...   M1   M2   M3   M4   M5  \\\n",
       "98980   debit        aol.com            NaN  ...  NaN  NaN  NaN  NaN  NaN   \n",
       "69824   debit  anonymous.com            NaN  ...    T    T    T  NaN  NaN   \n",
       "9928    debit      gmail.com            NaN  ...  NaN  NaN  NaN  NaN  NaN   \n",
       "75599  credit  anonymous.com  anonymous.com  ...  NaN  NaN  NaN  NaN  NaN   \n",
       "95621   debit      gmail.com            NaN  ...    T    T    F   M1    F   \n",
       "\n",
       "        M6   M7   M8   M9  isFraud  \n",
       "98980  NaN  NaN  NaN  NaN        0  \n",
       "69824  NaN    T    T    T        0  \n",
       "9928     T  NaN  NaN  NaN        0  \n",
       "75599  NaN  NaN  NaN  NaN        0  \n",
       "95621    F    T    T    T        0  \n",
       "\n",
       "[5 rows x 34 columns]"
      ]
     },
     "execution_count": 25,
     "metadata": {},
     "output_type": "execute_result"
    }
   ],
   "source": [
    "Train_df=pd.concat([Train_X,Train_Y],axis=1)\n",
    "Train_df.head()"
   ]
  },
  {
   "cell_type": "code",
   "execution_count": 26,
   "metadata": {},
   "outputs": [
    {
     "name": "stdout",
     "output_type": "stream",
     "text": [
      "<class 'pandas.core.frame.DataFrame'>\n",
      "Int64Index: 75000 entries, 98980 to 15795\n",
      "Data columns (total 34 columns):\n",
      " #   Column          Non-Null Count  Dtype  \n",
      "---  ------          --------------  -----  \n",
      " 0   TransactionAmt  75000 non-null  float64\n",
      " 1   ProductCD       75000 non-null  object \n",
      " 2   card1           75000 non-null  int64  \n",
      " 3   card2           73971 non-null  float64\n",
      " 4   card3           74997 non-null  float64\n",
      " 5   card4           74994 non-null  object \n",
      " 6   card5           74599 non-null  float64\n",
      " 7   card6           74996 non-null  object \n",
      " 8   P_emaildomain   63425 non-null  object \n",
      " 9   R_emaildomain   25944 non-null  object \n",
      " 10  C1              75000 non-null  float64\n",
      " 11  C2              75000 non-null  float64\n",
      " 12  C3              75000 non-null  float64\n",
      " 13  C4              75000 non-null  float64\n",
      " 14  C5              75000 non-null  float64\n",
      " 15  C6              75000 non-null  float64\n",
      " 16  C7              75000 non-null  float64\n",
      " 17  C8              75000 non-null  float64\n",
      " 18  C9              75000 non-null  float64\n",
      " 19  C10             75000 non-null  float64\n",
      " 20  C11             75000 non-null  float64\n",
      " 21  C12             75000 non-null  float64\n",
      " 22  C13             75000 non-null  float64\n",
      " 23  C14             75000 non-null  float64\n",
      " 24  M1              23679 non-null  object \n",
      " 25  M2              23679 non-null  object \n",
      " 26  M3              23679 non-null  object \n",
      " 27  M4              31887 non-null  object \n",
      " 28  M5              23380 non-null  object \n",
      " 29  M6              40768 non-null  object \n",
      " 30  M7              12098 non-null  object \n",
      " 31  M8              12098 non-null  object \n",
      " 32  M9              12098 non-null  object \n",
      " 33  isFraud         75000 non-null  int64  \n",
      "dtypes: float64(18), int64(2), object(14)\n",
      "memory usage: 20.0+ MB\n"
     ]
    }
   ],
   "source": [
    "Train_df.info()"
   ]
  },
  {
   "cell_type": "markdown",
   "metadata": {},
   "source": [
    "### 2.4 범주형 변수 탐색\n",
    "- 탐색방법  \n",
    "(1) 결측을 문자로 변환 (탐색을 위해 임시 변환)  \n",
    "(2) 변수별 분포 확인 (bar plot)  \n",
    "(3) 변수와 특징 간 관계 확인 (groupby, 사기 유무에 따른)  \n",
    "\n",
    "\n",
    "\n",
    "- 탐색결과 활용  \n",
    "(1) 주요 값 기준 이진화  \n",
    "(2) 더미화"
   ]
  },
  {
   "cell_type": "markdown",
   "metadata": {},
   "source": [
    "#### 2.4.1 ProductCD"
   ]
  },
  {
   "cell_type": "code",
   "execution_count": 27,
   "metadata": {},
   "outputs": [
    {
     "data": {
      "text/plain": [
       "0"
      ]
     },
     "execution_count": 27,
     "metadata": {},
     "output_type": "execute_result"
    }
   ],
   "source": [
    "Train_df['ProductCD'].isnull().sum() # 결측이 전혀없어서, 결측을 문자로 변환할 필요 없음"
   ]
  },
  {
   "cell_type": "code",
   "execution_count": 28,
   "metadata": {},
   "outputs": [
    {
     "data": {
      "text/plain": [
       "<AxesSubplot:>"
      ]
     },
     "execution_count": 28,
     "metadata": {},
     "output_type": "execute_result"
    },
    {
     "data": {
      "image/png": "[encoded data removed]",
      "text/plain": [
       "<Figure size 1440x360 with 1 Axes>"
      ]
     },
     "metadata": {
      "needs_background": "light"
     },
     "output_type": "display_data"
    }
   ],
   "source": [
    "Train_df['ProductCD'].value_counts(normalize = True).plot(kind = 'bar') # value_counts에 대한 bar plot 생성\n",
    "# ProdudctCD가 W가 매우 높은 비율을 차지하며, S는 1% 가량됨을 확인"
   ]
  },
  {
   "cell_type": "code",
   "execution_count": 29,
   "metadata": {},
   "outputs": [
    {
     "data": {
      "text/plain": [
       "ProductCD\n",
       "C    0.090941\n",
       "H    0.021194\n",
       "R    0.011078\n",
       "S    0.026562\n",
       "W    0.017871\n",
       "Name: isFraud, dtype: float64"
      ]
     },
     "execution_count": 29,
     "metadata": {},
     "output_type": "execute_result"
    }
   ],
   "source": [
    "# 상품별로 차이가 존재함을 확인 (다만, H와 W는 거의 유사하다고 판단됨)\n",
    "# 상태 공간의 크기가 그리 크지 않으니, 굳이 변수 값의 군집화는 수행하지 않고 더미화를 하기로 결정\n",
    "Train_df.groupby('ProductCD')['isFraud'].mean()"
   ]
  },
  {
   "cell_type": "markdown",
   "metadata": {},
   "source": [
    "- C의 경우 다른 경우보다 isFraud 의 비율이 높은 것을 볼 수 있다."
   ]
  },
  {
   "cell_type": "markdown",
   "metadata": {},
   "source": [
    "#### 2.4.2card4"
   ]
  },
  {
   "cell_type": "code",
   "execution_count": 30,
   "metadata": {},
   "outputs": [
    {
     "data": {
      "text/plain": [
       "6"
      ]
     },
     "execution_count": 30,
     "metadata": {},
     "output_type": "execute_result"
    }
   ],
   "source": [
    "Train_df['card4'].isnull().sum() # 결측이 6개밖에 되지 않음 ==> 전부 최빈값으로 대체"
   ]
  },
  {
   "cell_type": "code",
   "execution_count": 31,
   "metadata": {},
   "outputs": [
    {
     "data": {
      "text/plain": [
       "<AxesSubplot:>"
      ]
     },
     "execution_count": 31,
     "metadata": {},
     "output_type": "execute_result"
    },
    {
     "data": {
      "image/png": "[encoded data removed]",
      "text/plain": [
       "<Figure size 1440x360 with 1 Axes>"
      ]
     },
     "metadata": {
      "needs_background": "light"
     },
     "output_type": "display_data"
    }
   ],
   "source": [
    "Train_df['card4'].value_counts(normalize = True).plot(kind = 'bar') # value_counts에 대한 bar plot 생성\n",
    "# visa와 master card가 매우 높은 비율을 차지하며, discover는 거의 발생하지 않음"
   ]
  },
  {
   "cell_type": "code",
   "execution_count": 32,
   "metadata": {},
   "outputs": [
    {
     "data": {
      "text/plain": [
       "card4\n",
       "american express    0.010586\n",
       "discover            0.025203\n",
       "mastercard          0.029373\n",
       "visa                0.025315\n",
       "Name: isFraud, dtype: float64"
      ]
     },
     "execution_count": 32,
     "metadata": {},
     "output_type": "execute_result"
    }
   ],
   "source": [
    "Train_df.groupby('card4')['isFraud'].mean()"
   ]
  },
  {
   "cell_type": "markdown",
   "metadata": {},
   "source": [
    "- 거래의 대다수를 차지하는 visa와 mastercard의 값이 유사\n",
    "- american express만 유독 값이 작으며 해당 값의 빈도가 높지 않음 => 해당 변수를 american express란 변수로 이진화\n",
    "- 따라서 결측을 특별히 제거할 필요가 없음"
   ]
  },
  {
   "cell_type": "markdown",
   "metadata": {},
   "source": [
    "#### 2.4.3 card 6"
   ]
  },
  {
   "cell_type": "code",
   "execution_count": 33,
   "metadata": {},
   "outputs": [
    {
     "data": {
      "text/plain": [
       "4"
      ]
     },
     "execution_count": 33,
     "metadata": {},
     "output_type": "execute_result"
    }
   ],
   "source": [
    "Train_df['card6'].isnull().sum() # 결측이 4개밖에 되지 않음 ==> 전부 최빈값으로 대체"
   ]
  },
  {
   "cell_type": "code",
   "execution_count": 34,
   "metadata": {},
   "outputs": [
    {
     "data": {
      "text/plain": [
       "<AxesSubplot:>"
      ]
     },
     "execution_count": 34,
     "metadata": {},
     "output_type": "execute_result"
    },
    {
     "data": {
      "image/png": "[encoded data removed]",
      "text/plain": [
       "<Figure size 1440x360 with 1 Axes>"
      ]
     },
     "metadata": {
      "needs_background": "light"
     },
     "output_type": "display_data"
    }
   ],
   "source": [
    "Train_df['card6'].value_counts(normalize = True).plot(kind = 'bar') # value_counts에 대한 bar plot 생성\n",
    "# debit과 credit이 대다수를 차지. 다른 값들은 육안으로 확인이 불가능한 수준"
   ]
  },
  {
   "cell_type": "code",
   "execution_count": 35,
   "metadata": {},
   "outputs": [
    {
     "data": {
      "text/plain": [
       "debit              48673\n",
       "credit             26318\n",
       "debit or credit        3\n",
       "charge card            2\n",
       "Name: card6, dtype: int64"
      ]
     },
     "execution_count": 35,
     "metadata": {},
     "output_type": "execute_result"
    }
   ],
   "source": [
    "Train_df['card6'].value_counts(normalize = False) # debit or credit, charge card는 빈도가 매우 적음"
   ]
  },
  {
   "cell_type": "code",
   "execution_count": 36,
   "metadata": {},
   "outputs": [
    {
     "data": {
      "text/plain": [
       "card6\n",
       "charge card        0.000000\n",
       "credit             0.037427\n",
       "debit              0.019867\n",
       "debit or credit    0.000000\n",
       "Name: isFraud, dtype: float64"
      ]
     },
     "execution_count": 36,
     "metadata": {},
     "output_type": "execute_result"
    }
   ],
   "source": [
    "Train_df.groupby('card6')['isFraud'].mean()"
   ]
  },
  {
   "cell_type": "markdown",
   "metadata": {},
   "source": [
    "- credit과 debit의 차이가 존재\n",
    "- charge card, debit or credit은 전부 0임을 확인 ==> 그러나 빈도 자체가 매우 적어서 그런 것이라 예상됨\n",
    "- 따라서 credit인지 나타내는 변수로만 변환"
   ]
  },
  {
   "cell_type": "markdown",
   "metadata": {},
   "source": [
    "#### 2.4.3 P_emaildomain 과 R_emaildomain\n",
    "\n",
    "- 이전 탐색에서 각각의 상태 공간 크기가 60, 61임을 확인 (대다수가 gmail 혹은 yahoo 메일임)\n",
    "- 또한, 결측이 매우 많았는데, email이 결측이라는 것이 어떤 의미가 있을것이라 의심됨\n",
    "- 샘플의 개수를 고려하더라도 그 크기가 큰 범주형 변수라고 판단 가능\n",
    "- 두 변수간 관계가 있으리라 쉽게 판단 가능\n",
    "- 또한, .를 기준으로 앞쪽에는 실제 도메인이, 뒤쪽에는 com, net 등이 포함되어 있어 분할 필요"
   ]
  },
  {
   "cell_type": "code",
   "execution_count": 37,
   "metadata": {},
   "outputs": [
    {
     "data": {
      "text/plain": [
       "gmail.com           27239\n",
       "yahoo.com           11959\n",
       "anonymous.com        6439\n",
       "hotmail.com          6116\n",
       "aol.com              3672\n",
       "comcast.net          1410\n",
       "icloud.com            641\n",
       "msn.com               602\n",
       "outlook.com           548\n",
       "att.net               518\n",
       "sbcglobal.net         483\n",
       "verizon.net           463\n",
       "live.com              366\n",
       "bellsouth.net         336\n",
       "cox.net               287\n",
       "me.com                283\n",
       "ymail.com             281\n",
       "yahoo.com.mx          223\n",
       "charter.net           159\n",
       "optonline.net         158\n",
       "mac.com                97\n",
       "rocketmail.com         94\n",
       "live.com.mx            93\n",
       "earthlink.net          75\n",
       "mail.com               60\n",
       "embarqmail.com         57\n",
       "roadrunner.com         53\n",
       "gmail                  47\n",
       "outlook.es             45\n",
       "windstream.net         40\n",
       "juno.com               40\n",
       "frontier.com           38\n",
       "hotmail.es             38\n",
       "twc.com                36\n",
       "netzero.com            34\n",
       "frontiernet.net        33\n",
       "cfl.rr.com             31\n",
       "aim.com                31\n",
       "web.de                 28\n",
       "prodigy.net.mx         27\n",
       "q.com                  27\n",
       "suddenlink.net         23\n",
       "hotmail.fr             22\n",
       "yahoo.fr               20\n",
       "netzero.net            20\n",
       "ptd.net                19\n",
       "cableone.net           18\n",
       "centurylink.net        15\n",
       "yahoo.es               15\n",
       "gmx.de                 14\n",
       "yahoo.co.uk            13\n",
       "sc.rr.com              10\n",
       "hotmail.co.uk           8\n",
       "protonmail.com          7\n",
       "servicios-ta.com        6\n",
       "yahoo.de                5\n",
       "yahoo.co.jp             1\n",
       "hotmail.de              1\n",
       "live.fr                 1\n",
       "Name: P_emaildomain, dtype: int64"
      ]
     },
     "execution_count": 37,
     "metadata": {},
     "output_type": "execute_result"
    }
   ],
   "source": [
    "Train_df['P_emaildomain'].value_counts() # gmail vs gmail.com etc..."
   ]
  },
  {
   "cell_type": "code",
   "execution_count": 38,
   "metadata": {},
   "outputs": [
    {
     "data": {
      "text/plain": [
       "gmail.com           9852\n",
       "anonymous.com       5195\n",
       "hotmail.com         4072\n",
       "yahoo.com           2412\n",
       "aol.com             1008\n",
       "comcast.net          597\n",
       "outlook.com          316\n",
       "icloud.com           229\n",
       "yahoo.com.mx         223\n",
       "msn.com              214\n",
       "verizon.net          189\n",
       "cox.net              160\n",
       "sbcglobal.net        156\n",
       "me.com               141\n",
       "bellsouth.net        138\n",
       "live.com             131\n",
       "att.net              119\n",
       "live.com.mx           93\n",
       "ymail.com             63\n",
       "mac.com               54\n",
       "optonline.net         50\n",
       "outlook.es            45\n",
       "hotmail.es            38\n",
       "mail.com              32\n",
       "charter.net           30\n",
       "web.de                27\n",
       "prodigy.net.mx        27\n",
       "embarqmail.com        24\n",
       "juno.com              23\n",
       "hotmail.fr            22\n",
       "frontier.com          22\n",
       "yahoo.fr              19\n",
       "earthlink.net         19\n",
       "rocketmail.com        17\n",
       "roadrunner.com        16\n",
       "windstream.net        15\n",
       "cfl.rr.com            14\n",
       "gmx.de                13\n",
       "suddenlink.net        12\n",
       "gmail                 12\n",
       "yahoo.es              10\n",
       "twc.com                9\n",
       "yahoo.co.uk            9\n",
       "frontiernet.net        9\n",
       "aim.com                8\n",
       "q.com                  8\n",
       "ptd.net                8\n",
       "yahoo.de               8\n",
       "hotmail.co.uk          6\n",
       "servicios-ta.com       6\n",
       "scranton.edu           5\n",
       "centurylink.net        4\n",
       "cableone.net           4\n",
       "netzero.net            4\n",
       "yahoo.co.jp            2\n",
       "protonmail.com         2\n",
       "hotmail.de             1\n",
       "live.fr                1\n",
       "netzero.com            1\n",
       "Name: R_emaildomain, dtype: int64"
      ]
     },
     "execution_count": 38,
     "metadata": {},
     "output_type": "execute_result"
    }
   ],
   "source": [
    "Train_df['R_emaildomain'].value_counts()"
   ]
  },
  {
   "cell_type": "code",
   "execution_count": 39,
   "metadata": {},
   "outputs": [],
   "source": [
    "# 결측이 의미가 있는지 확인 (두 변수 모두 결측이 많다는 것은 위에서 확인함)\n",
    "# 결측을 나타내는 변수 생성\n",
    "Train_df['NA_P_emaildomain'] = Train_df['P_emaildomain'].isnull().astype(int)\n",
    "Train_df['NA_R_emaildomain'] = Train_df['R_emaildomain'].isnull().astype(int)"
   ]
  },
  {
   "cell_type": "code",
   "execution_count": 40,
   "metadata": {},
   "outputs": [
    {
     "data": {
      "text/html": [
       "<div>\n",
       "<style scoped>\n",
       "    .dataframe tbody tr th:only-of-type {\n",
       "        vertical-align: middle;\n",
       "    }\n",
       "\n",
       "    .dataframe tbody tr th {\n",
       "        vertical-align: top;\n",
       "    }\n",
       "\n",
       "    .dataframe thead th {\n",
       "        text-align: right;\n",
       "    }\n",
       "</style>\n",
       "<table border=\"1\" class=\"dataframe\">\n",
       "  <thead>\n",
       "    <tr style=\"text-align: right;\">\n",
       "      <th></th>\n",
       "      <th>TransactionAmt</th>\n",
       "      <th>ProductCD</th>\n",
       "      <th>card1</th>\n",
       "      <th>card2</th>\n",
       "      <th>card3</th>\n",
       "      <th>card4</th>\n",
       "      <th>card5</th>\n",
       "      <th>card6</th>\n",
       "      <th>P_emaildomain</th>\n",
       "      <th>R_emaildomain</th>\n",
       "      <th>...</th>\n",
       "      <th>M3</th>\n",
       "      <th>M4</th>\n",
       "      <th>M5</th>\n",
       "      <th>M6</th>\n",
       "      <th>M7</th>\n",
       "      <th>M8</th>\n",
       "      <th>M9</th>\n",
       "      <th>isFraud</th>\n",
       "      <th>NA_P_emaildomain</th>\n",
       "      <th>NA_R_emaildomain</th>\n",
       "    </tr>\n",
       "  </thead>\n",
       "  <tbody>\n",
       "    <tr>\n",
       "      <th>98980</th>\n",
       "      <td>35.00</td>\n",
       "      <td>H</td>\n",
       "      <td>13906</td>\n",
       "      <td>369.0</td>\n",
       "      <td>150.0</td>\n",
       "      <td>mastercard</td>\n",
       "      <td>117.0</td>\n",
       "      <td>debit</td>\n",
       "      <td>aol.com</td>\n",
       "      <td>NaN</td>\n",
       "      <td>...</td>\n",
       "      <td>NaN</td>\n",
       "      <td>NaN</td>\n",
       "      <td>NaN</td>\n",
       "      <td>NaN</td>\n",
       "      <td>NaN</td>\n",
       "      <td>NaN</td>\n",
       "      <td>NaN</td>\n",
       "      <td>0</td>\n",
       "      <td>0</td>\n",
       "      <td>1</td>\n",
       "    </tr>\n",
       "    <tr>\n",
       "      <th>69824</th>\n",
       "      <td>155.21</td>\n",
       "      <td>W</td>\n",
       "      <td>7508</td>\n",
       "      <td>321.0</td>\n",
       "      <td>150.0</td>\n",
       "      <td>visa</td>\n",
       "      <td>226.0</td>\n",
       "      <td>debit</td>\n",
       "      <td>anonymous.com</td>\n",
       "      <td>NaN</td>\n",
       "      <td>...</td>\n",
       "      <td>T</td>\n",
       "      <td>NaN</td>\n",
       "      <td>NaN</td>\n",
       "      <td>NaN</td>\n",
       "      <td>T</td>\n",
       "      <td>T</td>\n",
       "      <td>T</td>\n",
       "      <td>0</td>\n",
       "      <td>0</td>\n",
       "      <td>1</td>\n",
       "    </tr>\n",
       "    <tr>\n",
       "      <th>9928</th>\n",
       "      <td>31.96</td>\n",
       "      <td>W</td>\n",
       "      <td>1310</td>\n",
       "      <td>206.0</td>\n",
       "      <td>150.0</td>\n",
       "      <td>mastercard</td>\n",
       "      <td>166.0</td>\n",
       "      <td>debit</td>\n",
       "      <td>gmail.com</td>\n",
       "      <td>NaN</td>\n",
       "      <td>...</td>\n",
       "      <td>NaN</td>\n",
       "      <td>NaN</td>\n",
       "      <td>NaN</td>\n",
       "      <td>T</td>\n",
       "      <td>NaN</td>\n",
       "      <td>NaN</td>\n",
       "      <td>NaN</td>\n",
       "      <td>0</td>\n",
       "      <td>0</td>\n",
       "      <td>1</td>\n",
       "    </tr>\n",
       "    <tr>\n",
       "      <th>75599</th>\n",
       "      <td>250.00</td>\n",
       "      <td>R</td>\n",
       "      <td>7526</td>\n",
       "      <td>520.0</td>\n",
       "      <td>150.0</td>\n",
       "      <td>american express</td>\n",
       "      <td>190.0</td>\n",
       "      <td>credit</td>\n",
       "      <td>anonymous.com</td>\n",
       "      <td>anonymous.com</td>\n",
       "      <td>...</td>\n",
       "      <td>NaN</td>\n",
       "      <td>NaN</td>\n",
       "      <td>NaN</td>\n",
       "      <td>NaN</td>\n",
       "      <td>NaN</td>\n",
       "      <td>NaN</td>\n",
       "      <td>NaN</td>\n",
       "      <td>0</td>\n",
       "      <td>0</td>\n",
       "      <td>0</td>\n",
       "    </tr>\n",
       "    <tr>\n",
       "      <th>95621</th>\n",
       "      <td>59.00</td>\n",
       "      <td>W</td>\n",
       "      <td>1906</td>\n",
       "      <td>199.0</td>\n",
       "      <td>150.0</td>\n",
       "      <td>mastercard</td>\n",
       "      <td>224.0</td>\n",
       "      <td>debit</td>\n",
       "      <td>gmail.com</td>\n",
       "      <td>NaN</td>\n",
       "      <td>...</td>\n",
       "      <td>F</td>\n",
       "      <td>M1</td>\n",
       "      <td>F</td>\n",
       "      <td>F</td>\n",
       "      <td>T</td>\n",
       "      <td>T</td>\n",
       "      <td>T</td>\n",
       "      <td>0</td>\n",
       "      <td>0</td>\n",
       "      <td>1</td>\n",
       "    </tr>\n",
       "    <tr>\n",
       "      <th>...</th>\n",
       "      <td>...</td>\n",
       "      <td>...</td>\n",
       "      <td>...</td>\n",
       "      <td>...</td>\n",
       "      <td>...</td>\n",
       "      <td>...</td>\n",
       "      <td>...</td>\n",
       "      <td>...</td>\n",
       "      <td>...</td>\n",
       "      <td>...</td>\n",
       "      <td>...</td>\n",
       "      <td>...</td>\n",
       "      <td>...</td>\n",
       "      <td>...</td>\n",
       "      <td>...</td>\n",
       "      <td>...</td>\n",
       "      <td>...</td>\n",
       "      <td>...</td>\n",
       "      <td>...</td>\n",
       "      <td>...</td>\n",
       "      <td>...</td>\n",
       "    </tr>\n",
       "    <tr>\n",
       "      <th>6265</th>\n",
       "      <td>10.99</td>\n",
       "      <td>W</td>\n",
       "      <td>10989</td>\n",
       "      <td>360.0</td>\n",
       "      <td>150.0</td>\n",
       "      <td>visa</td>\n",
       "      <td>166.0</td>\n",
       "      <td>debit</td>\n",
       "      <td>gmail.com</td>\n",
       "      <td>NaN</td>\n",
       "      <td>...</td>\n",
       "      <td>T</td>\n",
       "      <td>M0</td>\n",
       "      <td>F</td>\n",
       "      <td>F</td>\n",
       "      <td>NaN</td>\n",
       "      <td>NaN</td>\n",
       "      <td>NaN</td>\n",
       "      <td>0</td>\n",
       "      <td>0</td>\n",
       "      <td>1</td>\n",
       "    </tr>\n",
       "    <tr>\n",
       "      <th>54886</th>\n",
       "      <td>117.00</td>\n",
       "      <td>W</td>\n",
       "      <td>11454</td>\n",
       "      <td>111.0</td>\n",
       "      <td>150.0</td>\n",
       "      <td>visa</td>\n",
       "      <td>226.0</td>\n",
       "      <td>debit</td>\n",
       "      <td>hotmail.com</td>\n",
       "      <td>NaN</td>\n",
       "      <td>...</td>\n",
       "      <td>NaN</td>\n",
       "      <td>M0</td>\n",
       "      <td>F</td>\n",
       "      <td>T</td>\n",
       "      <td>NaN</td>\n",
       "      <td>NaN</td>\n",
       "      <td>NaN</td>\n",
       "      <td>0</td>\n",
       "      <td>0</td>\n",
       "      <td>1</td>\n",
       "    </tr>\n",
       "    <tr>\n",
       "      <th>76820</th>\n",
       "      <td>67.95</td>\n",
       "      <td>W</td>\n",
       "      <td>1974</td>\n",
       "      <td>111.0</td>\n",
       "      <td>150.0</td>\n",
       "      <td>visa</td>\n",
       "      <td>226.0</td>\n",
       "      <td>debit</td>\n",
       "      <td>NaN</td>\n",
       "      <td>NaN</td>\n",
       "      <td>...</td>\n",
       "      <td>T</td>\n",
       "      <td>NaN</td>\n",
       "      <td>NaN</td>\n",
       "      <td>T</td>\n",
       "      <td>NaN</td>\n",
       "      <td>NaN</td>\n",
       "      <td>NaN</td>\n",
       "      <td>0</td>\n",
       "      <td>1</td>\n",
       "      <td>1</td>\n",
       "    </tr>\n",
       "    <tr>\n",
       "      <th>860</th>\n",
       "      <td>47.95</td>\n",
       "      <td>W</td>\n",
       "      <td>15497</td>\n",
       "      <td>490.0</td>\n",
       "      <td>150.0</td>\n",
       "      <td>visa</td>\n",
       "      <td>226.0</td>\n",
       "      <td>debit</td>\n",
       "      <td>gmail.com</td>\n",
       "      <td>NaN</td>\n",
       "      <td>...</td>\n",
       "      <td>NaN</td>\n",
       "      <td>NaN</td>\n",
       "      <td>NaN</td>\n",
       "      <td>F</td>\n",
       "      <td>NaN</td>\n",
       "      <td>NaN</td>\n",
       "      <td>NaN</td>\n",
       "      <td>0</td>\n",
       "      <td>0</td>\n",
       "      <td>1</td>\n",
       "    </tr>\n",
       "    <tr>\n",
       "      <th>15795</th>\n",
       "      <td>275.97</td>\n",
       "      <td>W</td>\n",
       "      <td>1761</td>\n",
       "      <td>383.0</td>\n",
       "      <td>150.0</td>\n",
       "      <td>visa</td>\n",
       "      <td>226.0</td>\n",
       "      <td>debit</td>\n",
       "      <td>gmail.com</td>\n",
       "      <td>NaN</td>\n",
       "      <td>...</td>\n",
       "      <td>NaN</td>\n",
       "      <td>NaN</td>\n",
       "      <td>NaN</td>\n",
       "      <td>F</td>\n",
       "      <td>NaN</td>\n",
       "      <td>NaN</td>\n",
       "      <td>NaN</td>\n",
       "      <td>0</td>\n",
       "      <td>0</td>\n",
       "      <td>1</td>\n",
       "    </tr>\n",
       "  </tbody>\n",
       "</table>\n",
       "<p>75000 rows × 36 columns</p>\n",
       "</div>"
      ],
      "text/plain": [
       "       TransactionAmt ProductCD  card1  card2  card3             card4  card5  \\\n",
       "98980           35.00         H  13906  369.0  150.0        mastercard  117.0   \n",
       "69824          155.21         W   7508  321.0  150.0              visa  226.0   \n",
       "9928            31.96         W   1310  206.0  150.0        mastercard  166.0   \n",
       "75599          250.00         R   7526  520.0  150.0  american express  190.0   \n",
       "95621           59.00         W   1906  199.0  150.0        mastercard  224.0   \n",
       "...               ...       ...    ...    ...    ...               ...    ...   \n",
       "6265            10.99         W  10989  360.0  150.0              visa  166.0   \n",
       "54886          117.00         W  11454  111.0  150.0              visa  226.0   \n",
       "76820           67.95         W   1974  111.0  150.0              visa  226.0   \n",
       "860             47.95         W  15497  490.0  150.0              visa  226.0   \n",
       "15795          275.97         W   1761  383.0  150.0              visa  226.0   \n",
       "\n",
       "        card6  P_emaildomain  R_emaildomain  ...   M3   M4   M5   M6   M7  \\\n",
       "98980   debit        aol.com            NaN  ...  NaN  NaN  NaN  NaN  NaN   \n",
       "69824   debit  anonymous.com            NaN  ...    T  NaN  NaN  NaN    T   \n",
       "9928    debit      gmail.com            NaN  ...  NaN  NaN  NaN    T  NaN   \n",
       "75599  credit  anonymous.com  anonymous.com  ...  NaN  NaN  NaN  NaN  NaN   \n",
       "95621   debit      gmail.com            NaN  ...    F   M1    F    F    T   \n",
       "...       ...            ...            ...  ...  ...  ...  ...  ...  ...   \n",
       "6265    debit      gmail.com            NaN  ...    T   M0    F    F  NaN   \n",
       "54886   debit    hotmail.com            NaN  ...  NaN   M0    F    T  NaN   \n",
       "76820   debit            NaN            NaN  ...    T  NaN  NaN    T  NaN   \n",
       "860     debit      gmail.com            NaN  ...  NaN  NaN  NaN    F  NaN   \n",
       "15795   debit      gmail.com            NaN  ...  NaN  NaN  NaN    F  NaN   \n",
       "\n",
       "        M8   M9  isFraud  NA_P_emaildomain  NA_R_emaildomain  \n",
       "98980  NaN  NaN        0                 0                 1  \n",
       "69824    T    T        0                 0                 1  \n",
       "9928   NaN  NaN        0                 0                 1  \n",
       "75599  NaN  NaN        0                 0                 0  \n",
       "95621    T    T        0                 0                 1  \n",
       "...    ...  ...      ...               ...               ...  \n",
       "6265   NaN  NaN        0                 0                 1  \n",
       "54886  NaN  NaN        0                 0                 1  \n",
       "76820  NaN  NaN        0                 1                 1  \n",
       "860    NaN  NaN        0                 0                 1  \n",
       "15795  NaN  NaN        0                 0                 1  \n",
       "\n",
       "[75000 rows x 36 columns]"
      ]
     },
     "execution_count": 40,
     "metadata": {},
     "output_type": "execute_result"
    }
   ],
   "source": [
    "Train_df #결측 여부 체크가능"
   ]
  },
  {
   "cell_type": "code",
   "execution_count": 41,
   "metadata": {},
   "outputs": [
    {
     "data": {
      "text/plain": [
       "NA_P_emaildomain\n",
       "0    0.026488\n",
       "1    0.023672\n",
       "Name: isFraud, dtype: float64"
      ]
     },
     "execution_count": 41,
     "metadata": {},
     "output_type": "execute_result"
    }
   ],
   "source": [
    "Train_df.groupby('NA_P_emaildomain')['isFraud'].mean()"
   ]
  },
  {
   "cell_type": "markdown",
   "metadata": {},
   "source": [
    "- P_emaildomain은 크게 문제 없어보임\n",
    "- 0.002 차이나지 않는가? -> 다 반영하면 과적합 이슈에 부딪힐 수 있음"
   ]
  },
  {
   "cell_type": "code",
   "execution_count": 42,
   "metadata": {},
   "outputs": [
    {
     "data": {
      "text/plain": [
       "NA_R_emaildomain\n",
       "0    0.043478\n",
       "1    0.016838\n",
       "Name: isFraud, dtype: float64"
      ]
     },
     "execution_count": 42,
     "metadata": {},
     "output_type": "execute_result"
    }
   ],
   "source": [
    "Train_df.groupby('NA_R_emaildomain')['isFraud'].mean()"
   ]
  },
  {
   "cell_type": "markdown",
   "metadata": {},
   "source": [
    "- R_emaildomain은 오히려 결측이 발생하지 않았을 때 사기인 경우가 더 많음을 확인 ==> 변수로 활용\n"
   ]
  },
  {
   "cell_type": "markdown",
   "metadata": {},
   "source": [
    "#### pandas col -> str.function 함수 -> 문자를 기준으로 정보를 얻을 수 있다."
   ]
  },
  {
   "cell_type": "code",
   "execution_count": 43,
   "metadata": {},
   "outputs": [],
   "source": [
    "# 유의한 도메인만 가져와서 추가 탐색 수행\n",
    "Train_df['P_emaildomain'] = Train_df['P_emaildomain'].str.split('.', expand = True).iloc[:, 0]\n",
    "Train_df['R_emaildomain'] = Train_df['R_emaildomain'].str.split('.', expand = True).iloc[:, 0]"
   ]
  },
  {
   "cell_type": "code",
   "execution_count": 44,
   "metadata": {},
   "outputs": [
    {
     "data": {
      "text/plain": [
       "P_emaildomain\n",
       "aim             0.032258\n",
       "anonymous       0.010561\n",
       "aol             0.014978\n",
       "att             0.007722\n",
       "bellsouth       0.000000\n",
       "cableone        0.000000\n",
       "centurylink     0.000000\n",
       "cfl             0.000000\n",
       "charter         0.000000\n",
       "comcast         0.008511\n",
       "cox             0.003484\n",
       "earthlink       0.000000\n",
       "embarqmail      0.000000\n",
       "frontier        0.000000\n",
       "frontiernet     0.151515\n",
       "gmail           0.035220\n",
       "gmx             0.000000\n",
       "hotmail         0.048666\n",
       "icloud          0.039002\n",
       "juno            0.000000\n",
       "live            0.019565\n",
       "mac             0.000000\n",
       "mail            0.100000\n",
       "me              0.021201\n",
       "msn             0.016611\n",
       "netzero         0.000000\n",
       "optonline       0.000000\n",
       "outlook         0.075885\n",
       "prodigy         0.000000\n",
       "protonmail      0.142857\n",
       "ptd             0.000000\n",
       "q               0.000000\n",
       "roadrunner      0.000000\n",
       "rocketmail      0.000000\n",
       "sbcglobal       0.002070\n",
       "sc              0.000000\n",
       "servicios-ta    0.000000\n",
       "suddenlink      0.000000\n",
       "twc             0.000000\n",
       "verizon         0.004320\n",
       "web             0.000000\n",
       "windstream      0.000000\n",
       "yahoo           0.012994\n",
       "ymail           0.028470\n",
       "Name: isFraud, dtype: float64"
      ]
     },
     "execution_count": 44,
     "metadata": {},
     "output_type": "execute_result"
    }
   ],
   "source": [
    "Train_df.groupby('P_emaildomain')['isFraud'].mean()"
   ]
  },
  {
   "cell_type": "markdown",
   "metadata": {},
   "source": [
    "- P_emaildomain에 따른 isFraud의 평균 차이가 존재함\n",
    "- 다만, aim.com, cableone.net 등은 그 빈도가 매우 적어서 이 차이가 유의한 것인지 판단이 불가 -> 판단 유보"
   ]
  },
  {
   "cell_type": "code",
   "execution_count": 45,
   "metadata": {},
   "outputs": [
    {
     "data": {
      "text/plain": [
       "R_emaildomain\n",
       "aim             0.125000\n",
       "anonymous       0.010202\n",
       "aol             0.010913\n",
       "att             0.000000\n",
       "bellsouth       0.000000\n",
       "cableone        0.000000\n",
       "centurylink     0.000000\n",
       "cfl             0.000000\n",
       "charter         0.000000\n",
       "comcast         0.015075\n",
       "cox             0.012500\n",
       "earthlink       0.000000\n",
       "embarqmail      0.000000\n",
       "frontier        0.000000\n",
       "frontiernet     0.000000\n",
       "gmail           0.064984\n",
       "gmx             0.000000\n",
       "hotmail         0.065475\n",
       "icloud          0.043668\n",
       "juno            0.000000\n",
       "live            0.000000\n",
       "mac             0.000000\n",
       "mail            0.062500\n",
       "me              0.000000\n",
       "msn             0.004673\n",
       "netzero         0.000000\n",
       "optonline       0.000000\n",
       "outlook         0.105263\n",
       "prodigy         0.000000\n",
       "protonmail      0.500000\n",
       "ptd             0.000000\n",
       "q               0.000000\n",
       "roadrunner      0.000000\n",
       "rocketmail      0.000000\n",
       "sbcglobal       0.000000\n",
       "scranton        0.000000\n",
       "servicios-ta    0.000000\n",
       "suddenlink      0.000000\n",
       "twc             0.000000\n",
       "verizon         0.000000\n",
       "web             0.000000\n",
       "windstream      0.000000\n",
       "yahoo           0.029817\n",
       "ymail           0.126984\n",
       "Name: isFraud, dtype: float64"
      ]
     },
     "execution_count": 45,
     "metadata": {},
     "output_type": "execute_result"
    }
   ],
   "source": [
    "Train_df.groupby('R_emaildomain')['isFraud'].mean()"
   ]
  },
  {
   "cell_type": "code",
   "execution_count": 46,
   "metadata": {},
   "outputs": [],
   "source": [
    "# R_emaildomain에 따른 isFraud의 평균 차이가 존재함\n",
    "# 다만, 대다수 값이 그 빈도가 매우 적어서 이 차이가 유의한 것인지 판단이 불가"
   ]
  },
  {
   "cell_type": "code",
   "execution_count": 47,
   "metadata": {},
   "outputs": [
    {
     "name": "stdout",
     "output_type": "stream",
     "text": [
      "same_emaildomain 비율 \n",
      " 0    0.748693\n",
      "1    0.251307\n",
      "Name: same_emaildomain, dtype: float64\n"
     ]
    }
   ],
   "source": [
    "# 같은 거래라면 P_emaildomain과 R_emaildomain이 특정 관계가 있지 않을까?\n",
    "# 파생 변수 추가 및 확인: 실제 라벨의 분포를 고려했을 때, \n",
    "\n",
    "Train_df['same_emaildomain'] = (Train_df['P_emaildomain'] == Train_df['R_emaildomain']).astype(int)\n",
    "print(\"same_emaildomain 비율 \\n\", Train_df['same_emaildomain'].value_counts(normalize=True))"
   ]
  },
  {
   "cell_type": "code",
   "execution_count": 48,
   "metadata": {},
   "outputs": [
    {
     "name": "stdout",
     "output_type": "stream",
     "text": [
      "same_emaildomain\n",
      "0    0.016633\n",
      "1    0.054117\n",
      "Name: isFraud, dtype: float64\n"
     ]
    }
   ],
   "source": [
    "print(Train_df.groupby('same_emaildomain')['isFraud'].mean()) # 이메일이 같은 경우에 사기확률이 상승함"
   ]
  },
  {
   "cell_type": "markdown",
   "metadata": {},
   "source": [
    "- 차이가 난다 -> 변수로 사용 가능성 고려\n"
   ]
  },
  {
   "cell_type": "markdown",
   "metadata": {},
   "source": [
    "### 어떠한 변수들이 y와의 관계가 있는지 최대한 check 하면서 진행"
   ]
  },
  {
   "cell_type": "markdown",
   "metadata": {},
   "source": [
    "#### 2.4.5 c3"
   ]
  },
  {
   "cell_type": "code",
   "execution_count": 49,
   "metadata": {},
   "outputs": [],
   "source": [
    "# 결측이 없음\n",
    "# 변수 타입은 float 인데, 상태 공간의 크기가 크지 않음 ==> 범주형으로 판단을 해볼 수도?"
   ]
  },
  {
   "cell_type": "code",
   "execution_count": 50,
   "metadata": {},
   "outputs": [
    {
     "data": {
      "text/plain": [
       "0.0    0.988747\n",
       "1.0    0.010400\n",
       "2.0    0.000693\n",
       "3.0    0.000120\n",
       "9.0    0.000013\n",
       "8.0    0.000013\n",
       "4.0    0.000013\n",
       "Name: C3, dtype: float64"
      ]
     },
     "execution_count": 50,
     "metadata": {},
     "output_type": "execute_result"
    }
   ],
   "source": [
    "# 0.0 값이 대다수임을 확인\n",
    "Train_df['C3'].value_counts(normalize = True)"
   ]
  },
  {
   "cell_type": "code",
   "execution_count": 51,
   "metadata": {},
   "outputs": [
    {
     "data": {
      "text/plain": [
       "0.0    74156\n",
       "1.0      780\n",
       "2.0       52\n",
       "3.0        9\n",
       "9.0        1\n",
       "8.0        1\n",
       "4.0        1\n",
       "Name: C3, dtype: int64"
      ]
     },
     "execution_count": 51,
     "metadata": {},
     "output_type": "execute_result"
    }
   ],
   "source": [
    "Train_df['C3'].value_counts(normalize = False)"
   ]
  },
  {
   "cell_type": "code",
   "execution_count": 52,
   "metadata": {},
   "outputs": [
    {
     "data": {
      "text/plain": [
       "C3\n",
       "0.0    0.026336\n",
       "1.0    0.001282\n",
       "2.0    0.000000\n",
       "3.0    0.000000\n",
       "4.0    0.000000\n",
       "8.0    0.000000\n",
       "9.0    0.000000\n",
       "Name: isFraud, dtype: float64"
      ]
     },
     "execution_count": 52,
     "metadata": {},
     "output_type": "execute_result"
    }
   ],
   "source": [
    "# 그룹별 isFraud의 평균\n",
    "Train_df.groupby('C3')['isFraud'].mean()"
   ]
  },
  {
   "cell_type": "markdown",
   "metadata": {},
   "source": [
    "- 2.0 이상의 값은 거의 존재하지 않기 때문에, 우연히 평균이 0이 나왔을 것이란 추측이 가능\n",
    "- 0.0은 자주 등장했기 때문에, 전체 데이터에서의 라벨의 평균과 유사\n",
    "- 1.0은 빈도가 어느정도 있음에도 불구하고 라벨의 평균과 크게 다름\n",
    "- (조금은 위험한) 가설 수립: C3값이 1 이상인지 아닌지에 따른 차이가 존재할 것이다! => C3_over_1 변수 생성"
   ]
  },
  {
   "cell_type": "markdown",
   "metadata": {},
   "source": [
    "### 2.4.6 M관련 변수\n",
    "- M1 - M9 는 결측도 절반 가까이를 포함하여, 대체하는 것은 어려울 것으로 예상됨\n",
    "- 모두 범주형 변수이며, 값의 출현 패턴이 유사하니 동시에 탐색 수행"
   ]
  },
  {
   "cell_type": "code",
   "execution_count": 53,
   "metadata": {},
   "outputs": [],
   "source": [
    "# 탐색을 위해, 모든 결측값을 우선 대체\n",
    "M_columns = ['M' + str(i) for i in range(1, 10)]\n",
    "Train_df[M_columns] = Train_df[M_columns].fillna(\"결측\")"
   ]
  },
  {
   "cell_type": "code",
   "execution_count": 54,
   "metadata": {},
   "outputs": [
    {
     "name": "stdout",
     "output_type": "stream",
     "text": [
      "결측    51321\n",
      "T     23679\n",
      "Name: M1, dtype: int64\n",
      "\n",
      "\n",
      "결측    51321\n",
      "T     21297\n",
      "F      2382\n",
      "Name: M2, dtype: int64\n",
      "\n",
      "\n",
      "결측    51321\n",
      "T     18486\n",
      "F      5193\n",
      "Name: M3, dtype: int64\n",
      "\n",
      "\n",
      "결측    43113\n",
      "M0    19708\n",
      "M2     7115\n",
      "M1     5064\n",
      "Name: M4, dtype: int64\n",
      "\n",
      "\n",
      "결측    51620\n",
      "F     13011\n",
      "T     10369\n",
      "Name: M5, dtype: int64\n",
      "\n",
      "\n",
      "결측    34232\n",
      "F     21927\n",
      "T     18841\n",
      "Name: M6, dtype: int64\n",
      "\n",
      "\n",
      "결측    62902\n",
      "F     10357\n",
      "T      1741\n",
      "Name: M7, dtype: int64\n",
      "\n",
      "\n",
      "결측    62902\n",
      "F      7500\n",
      "T      4598\n",
      "Name: M8, dtype: int64\n",
      "\n",
      "\n",
      "결측    62902\n",
      "T     10407\n",
      "F      1691\n",
      "Name: M9, dtype: int64\n",
      "\n",
      "\n"
     ]
    }
   ],
   "source": [
    "## 변수 분포 확인\n",
    "# 1. 결측이 매우 많음 => 단순 대체 및 제거 불가\n",
    "# 2. M4를 제외하고는 T (True), F (False로 정의됨)\n",
    "for col in M_columns:\n",
    "    print(Train_df[col].value_counts())\n",
    "    print('\\n')\n"
   ]
  },
  {
   "cell_type": "code",
   "execution_count": 55,
   "metadata": {},
   "outputs": [
    {
     "name": "stdout",
     "output_type": "stream",
     "text": [
      "M1\n",
      "T     0.016681\n",
      "결측    0.030377\n",
      "Name: isFraud, dtype: float64\n",
      "\n",
      "\n",
      "M2\n",
      "F     0.034005\n",
      "T     0.014744\n",
      "결측    0.030377\n",
      "Name: isFraud, dtype: float64\n",
      "\n",
      "\n",
      "M3\n",
      "F     0.027922\n",
      "T     0.013524\n",
      "결측    0.030377\n",
      "Name: isFraud, dtype: float64\n",
      "\n",
      "\n",
      "M4\n",
      "M0    0.035722\n",
      "M1    0.019945\n",
      "M2    0.088405\n",
      "결측    0.012061\n",
      "Name: isFraud, dtype: float64\n",
      "\n",
      "\n",
      "M5\n",
      "F     0.018138\n",
      "T     0.041373\n",
      "결측    0.024971\n",
      "Name: isFraud, dtype: float64\n",
      "\n",
      "\n",
      "M6\n",
      "F     0.023624\n",
      "T     0.012101\n",
      "결측    0.035289\n",
      "Name: isFraud, dtype: float64\n",
      "\n",
      "\n",
      "M7\n",
      "F     0.013035\n",
      "T     0.007467\n",
      "결측    0.028711\n",
      "Name: isFraud, dtype: float64\n",
      "\n",
      "\n",
      "M8\n",
      "F     0.013867\n",
      "T     0.009569\n",
      "결측    0.028711\n",
      "Name: isFraud, dtype: float64\n",
      "\n",
      "\n",
      "M9\n",
      "F     0.013010\n",
      "T     0.012107\n",
      "결측    0.028711\n",
      "Name: isFraud, dtype: float64\n",
      "\n",
      "\n"
     ]
    }
   ],
   "source": [
    "# 결측 여부에 따른 target 값의 평균\n",
    "for col in M_columns:\n",
    "    print(Train_df.groupby(col)['isFraud'].mean())\n",
    "    print('\\n')"
   ]
  },
  {
   "cell_type": "markdown",
   "metadata": {},
   "source": [
    "- 변수 값별 라벨 확인: 값별로 차이가 있으며, 결측 자체로도 의미가 있어보임\n",
    "- 즉, 결측이냐 아니냐에 따라서 Y의 차이가 나는 것을 직관적으로도 알 수 있다.\n",
    "- 결측 자체로도 의미가 있으니, 결측을 따로 대체 후 더미화 필요"
   ]
  },
  {
   "cell_type": "markdown",
   "metadata": {},
   "source": [
    "## 2.5 연속형 변수 탐색\n",
    "- 탐색방법  \n",
    "(1) 변수별 분포 확인 (히스토그램)  \n",
    "(2) 변수와 라벨 간 관계 파악 (박스플롯)  \n",
    "\n",
    "- 탐색결과활용  \n",
    "(1) 연속형 변수 이진화  \n",
    "(2) 변수 치우침 제거  \n",
    "\n",
    "- 선형관계가 보이지 않는 변수가 대부분이라 트리 기반의 앙상블 모델을 활용하기로 의사결정  "
   ]
  },
  {
   "cell_type": "markdown",
   "metadata": {},
   "source": [
    "### 2.5.1 TransasctionAmt"
   ]
  },
  {
   "cell_type": "code",
   "execution_count": 56,
   "metadata": {},
   "outputs": [
    {
     "data": {
      "text/plain": [
       "<AxesSubplot:>"
      ]
     },
     "execution_count": 56,
     "metadata": {},
     "output_type": "execute_result"
    },
    {
     "data": {
      "image/png": "[encoded data removed]",
      "text/plain": [
       "<Figure size 1440x360 with 1 Axes>"
      ]
     },
     "metadata": {
      "needs_background": "light"
     },
     "output_type": "display_data"
    }
   ],
   "source": [
    "Train_df['TransactionAmt'].hist(bins = 100)"
   ]
  },
  {
   "cell_type": "code",
   "execution_count": 57,
   "metadata": {},
   "outputs": [
    {
     "data": {
      "text/plain": [
       "count    75000.000000\n",
       "mean       130.222620\n",
       "std        206.503908\n",
       "min          0.424000\n",
       "25%         45.000000\n",
       "50%         75.000000\n",
       "75%        134.950000\n",
       "max       4829.950000\n",
       "Name: TransactionAmt, dtype: float64"
      ]
     },
     "execution_count": 57,
     "metadata": {},
     "output_type": "execute_result"
    }
   ],
   "source": [
    "Train_df['TransactionAmt'].describe()"
   ]
  },
  {
   "cell_type": "markdown",
   "metadata": {},
   "source": [
    "- 히스토그램 -> 대다수가 1000달러 이하 & 치우침\n",
    "- 한쪽에 매우 치우침을 확인함: 거래 금액이 매우 크거나 작은 것 자체가 특징이 되지 않을까?\n",
    "- 전부 양수이고, 굉장히 많이 퍼져있는 것을 알 수 있다. 75Q와 평균과 비슷하다\n",
    "- max가 매우 크기 때문에, 의심을 해볼만함"
   ]
  },
  {
   "cell_type": "code",
   "execution_count": 58,
   "metadata": {},
   "outputs": [
    {
     "data": {
      "text/plain": [
       "([<matplotlib.axis.XTick at 0x1bc4ec0b490>,\n",
       "  <matplotlib.axis.XTick at 0x1bc4ec0b460>],\n",
       " [Text(1, 0, 'Fraud'), Text(2, 0, 'not Fraud')])"
      ]
     },
     "execution_count": 58,
     "metadata": {},
     "output_type": "execute_result"
    },
    {
     "data": {
      "image/png": "[encoded data removed]",
      "text/plain": [
       "<Figure size 1440x360 with 1 Axes>"
      ]
     },
     "metadata": {
      "needs_background": "light"
     },
     "output_type": "display_data"
    }
   ],
   "source": [
    "# 라벨과 연속형변수 비교\n",
    "TransactionAmt_Fraud = Train_df['TransactionAmt'].loc[Train_df['isFraud'] == 1]\n",
    "TransactionAmt_not_Fraud = Train_df['TransactionAmt'].loc[Train_df['isFraud'] == 0]\n",
    "\n",
    "# 대부분 이상치로 판단되어 정상적인 해석이 쉽지 않음 (다만, Fraud인 경우의 범위가 더 좁음)\n",
    "plt.boxplot([TransactionAmt_Fraud, TransactionAmt_not_Fraud])\n",
    "plt.xticks([1, 2], ['Fraud', 'not Fraud'])"
   ]
  },
  {
   "cell_type": "code",
   "execution_count": 59,
   "metadata": {},
   "outputs": [
    {
     "data": {
      "text/plain": [
       "count    1954.000000\n",
       "mean      132.173121\n",
       "std       178.683546\n",
       "min         0.424000\n",
       "25%        39.000000\n",
       "50%        78.788000\n",
       "75%       150.000000\n",
       "max      2680.990000\n",
       "Name: TransactionAmt, dtype: float64"
      ]
     },
     "execution_count": 59,
     "metadata": {},
     "output_type": "execute_result"
    }
   ],
   "source": [
    "# 사기 거래의 경우 describe()\n",
    "TransactionAmt_Fraud.describe()"
   ]
  },
  {
   "cell_type": "code",
   "execution_count": 60,
   "metadata": {},
   "outputs": [
    {
     "data": {
      "text/plain": [
       "count    73046.000000\n",
       "mean       130.170443\n",
       "std        207.197630\n",
       "min          1.000000\n",
       "25%         45.000000\n",
       "50%         75.000000\n",
       "75%        131.000000\n",
       "max       4829.950000\n",
       "Name: TransactionAmt, dtype: float64"
      ]
     },
     "execution_count": 60,
     "metadata": {},
     "output_type": "execute_result"
    }
   ],
   "source": [
    "# 사기 거래가 아닌 경우\n",
    "TransactionAmt_not_Fraud.describe()"
   ]
  },
  {
   "cell_type": "markdown",
   "metadata": {},
   "source": [
    "-  평균의 차이는 비슷, 75% Quantile 차이가 조금 존재함\n",
    "- 사기 거래 유무에 따라 특별한 관계를 찾기는 어려움\n",
    "- 따라서 라벨과 관계를 고려하지 않고, 치우침만 해결하기로 결정"
   ]
  },
  {
   "cell_type": "markdown",
   "metadata": {},
   "source": [
    "### 2.5.2 C 관련 변수 (범주형 변수 C3 제외)"
   ]
  },
  {
   "cell_type": "code",
   "execution_count": 61,
   "metadata": {},
   "outputs": [
    {
     "data": {
      "text/plain": [
       "['C1',\n",
       " 'C2',\n",
       " 'C4',\n",
       " 'C5',\n",
       " 'C6',\n",
       " 'C7',\n",
       " 'C8',\n",
       " 'C9',\n",
       " 'C10',\n",
       " 'C11',\n",
       " 'C12',\n",
       " 'C13',\n",
       " 'C14']"
      ]
     },
     "execution_count": 61,
     "metadata": {},
     "output_type": "execute_result"
    }
   ],
   "source": [
    "# 변수 목록 생성\n",
    "# c3는 제외\n",
    "C_columns = ['C' + str(i) for i in range(1, 15) if i != 3]\n",
    "C_columns"
   ]
  },
  {
   "cell_type": "code",
   "execution_count": 62,
   "metadata": {},
   "outputs": [
    {
     "data": {
      "text/html": [
       "<div>\n",
       "<style scoped>\n",
       "    .dataframe tbody tr th:only-of-type {\n",
       "        vertical-align: middle;\n",
       "    }\n",
       "\n",
       "    .dataframe tbody tr th {\n",
       "        vertical-align: top;\n",
       "    }\n",
       "\n",
       "    .dataframe thead th {\n",
       "        text-align: right;\n",
       "    }\n",
       "</style>\n",
       "<table border=\"1\" class=\"dataframe\">\n",
       "  <thead>\n",
       "    <tr style=\"text-align: right;\">\n",
       "      <th></th>\n",
       "      <th>C1</th>\n",
       "      <th>C2</th>\n",
       "      <th>C4</th>\n",
       "      <th>C5</th>\n",
       "      <th>C6</th>\n",
       "      <th>C7</th>\n",
       "      <th>C8</th>\n",
       "      <th>C9</th>\n",
       "      <th>C10</th>\n",
       "      <th>C11</th>\n",
       "      <th>C12</th>\n",
       "      <th>C13</th>\n",
       "      <th>C14</th>\n",
       "    </tr>\n",
       "  </thead>\n",
       "  <tbody>\n",
       "    <tr>\n",
       "      <th>count</th>\n",
       "      <td>75000.000000</td>\n",
       "      <td>75000.000000</td>\n",
       "      <td>75000.000000</td>\n",
       "      <td>75000.00000</td>\n",
       "      <td>75000.000000</td>\n",
       "      <td>75000.000000</td>\n",
       "      <td>75000.000000</td>\n",
       "      <td>75000.000000</td>\n",
       "      <td>75000.000000</td>\n",
       "      <td>75000.000000</td>\n",
       "      <td>75000.000000</td>\n",
       "      <td>75000.000000</td>\n",
       "      <td>75000.000000</td>\n",
       "    </tr>\n",
       "    <tr>\n",
       "      <th>mean</th>\n",
       "      <td>41.151000</td>\n",
       "      <td>47.912013</td>\n",
       "      <td>19.233333</td>\n",
       "      <td>4.17904</td>\n",
       "      <td>23.212640</td>\n",
       "      <td>15.887733</td>\n",
       "      <td>26.227787</td>\n",
       "      <td>3.277707</td>\n",
       "      <td>26.797080</td>\n",
       "      <td>29.765480</td>\n",
       "      <td>22.257813</td>\n",
       "      <td>45.584147</td>\n",
       "      <td>17.030920</td>\n",
       "    </tr>\n",
       "    <tr>\n",
       "      <th>std</th>\n",
       "      <td>312.502121</td>\n",
       "      <td>364.117106</td>\n",
       "      <td>158.342430</td>\n",
       "      <td>21.65999</td>\n",
       "      <td>159.083634</td>\n",
       "      <td>151.516922</td>\n",
       "      <td>231.963942</td>\n",
       "      <td>13.986498</td>\n",
       "      <td>232.707598</td>\n",
       "      <td>218.589395</td>\n",
       "      <td>212.667430</td>\n",
       "      <td>221.574753</td>\n",
       "      <td>104.011679</td>\n",
       "    </tr>\n",
       "    <tr>\n",
       "      <th>min</th>\n",
       "      <td>0.000000</td>\n",
       "      <td>0.000000</td>\n",
       "      <td>0.000000</td>\n",
       "      <td>0.00000</td>\n",
       "      <td>0.000000</td>\n",
       "      <td>0.000000</td>\n",
       "      <td>0.000000</td>\n",
       "      <td>0.000000</td>\n",
       "      <td>0.000000</td>\n",
       "      <td>0.000000</td>\n",
       "      <td>0.000000</td>\n",
       "      <td>0.000000</td>\n",
       "      <td>0.000000</td>\n",
       "    </tr>\n",
       "    <tr>\n",
       "      <th>25%</th>\n",
       "      <td>1.000000</td>\n",
       "      <td>1.000000</td>\n",
       "      <td>0.000000</td>\n",
       "      <td>0.00000</td>\n",
       "      <td>1.000000</td>\n",
       "      <td>0.000000</td>\n",
       "      <td>0.000000</td>\n",
       "      <td>0.000000</td>\n",
       "      <td>0.000000</td>\n",
       "      <td>1.000000</td>\n",
       "      <td>0.000000</td>\n",
       "      <td>1.000000</td>\n",
       "      <td>1.000000</td>\n",
       "    </tr>\n",
       "    <tr>\n",
       "      <th>50%</th>\n",
       "      <td>1.000000</td>\n",
       "      <td>1.000000</td>\n",
       "      <td>0.000000</td>\n",
       "      <td>0.00000</td>\n",
       "      <td>1.000000</td>\n",
       "      <td>0.000000</td>\n",
       "      <td>0.000000</td>\n",
       "      <td>1.000000</td>\n",
       "      <td>0.000000</td>\n",
       "      <td>1.000000</td>\n",
       "      <td>0.000000</td>\n",
       "      <td>2.000000</td>\n",
       "      <td>1.000000</td>\n",
       "    </tr>\n",
       "    <tr>\n",
       "      <th>75%</th>\n",
       "      <td>2.000000</td>\n",
       "      <td>2.000000</td>\n",
       "      <td>1.000000</td>\n",
       "      <td>1.00000</td>\n",
       "      <td>2.000000</td>\n",
       "      <td>0.000000</td>\n",
       "      <td>1.000000</td>\n",
       "      <td>1.000000</td>\n",
       "      <td>1.000000</td>\n",
       "      <td>2.000000</td>\n",
       "      <td>0.000000</td>\n",
       "      <td>9.000000</td>\n",
       "      <td>2.000000</td>\n",
       "    </tr>\n",
       "    <tr>\n",
       "      <th>max</th>\n",
       "      <td>4682.000000</td>\n",
       "      <td>5690.000000</td>\n",
       "      <td>2251.000000</td>\n",
       "      <td>295.00000</td>\n",
       "      <td>2251.000000</td>\n",
       "      <td>2253.000000</td>\n",
       "      <td>3328.000000</td>\n",
       "      <td>194.000000</td>\n",
       "      <td>3254.000000</td>\n",
       "      <td>3186.000000</td>\n",
       "      <td>3186.000000</td>\n",
       "      <td>2915.000000</td>\n",
       "      <td>1426.000000</td>\n",
       "    </tr>\n",
       "  </tbody>\n",
       "</table>\n",
       "</div>"
      ],
      "text/plain": [
       "                 C1            C2            C4           C5            C6  \\\n",
       "count  75000.000000  75000.000000  75000.000000  75000.00000  75000.000000   \n",
       "mean      41.151000     47.912013     19.233333      4.17904     23.212640   \n",
       "std      312.502121    364.117106    158.342430     21.65999    159.083634   \n",
       "min        0.000000      0.000000      0.000000      0.00000      0.000000   \n",
       "25%        1.000000      1.000000      0.000000      0.00000      1.000000   \n",
       "50%        1.000000      1.000000      0.000000      0.00000      1.000000   \n",
       "75%        2.000000      2.000000      1.000000      1.00000      2.000000   \n",
       "max     4682.000000   5690.000000   2251.000000    295.00000   2251.000000   \n",
       "\n",
       "                 C7            C8            C9           C10           C11  \\\n",
       "count  75000.000000  75000.000000  75000.000000  75000.000000  75000.000000   \n",
       "mean      15.887733     26.227787      3.277707     26.797080     29.765480   \n",
       "std      151.516922    231.963942     13.986498    232.707598    218.589395   \n",
       "min        0.000000      0.000000      0.000000      0.000000      0.000000   \n",
       "25%        0.000000      0.000000      0.000000      0.000000      1.000000   \n",
       "50%        0.000000      0.000000      1.000000      0.000000      1.000000   \n",
       "75%        0.000000      1.000000      1.000000      1.000000      2.000000   \n",
       "max     2253.000000   3328.000000    194.000000   3254.000000   3186.000000   \n",
       "\n",
       "                C12           C13           C14  \n",
       "count  75000.000000  75000.000000  75000.000000  \n",
       "mean      22.257813     45.584147     17.030920  \n",
       "std      212.667430    221.574753    104.011679  \n",
       "min        0.000000      0.000000      0.000000  \n",
       "25%        0.000000      1.000000      1.000000  \n",
       "50%        0.000000      2.000000      1.000000  \n",
       "75%        0.000000      9.000000      2.000000  \n",
       "max     3186.000000   2915.000000   1426.000000  "
      ]
     },
     "execution_count": 62,
     "metadata": {},
     "output_type": "execute_result"
    }
   ],
   "source": [
    "# describe()\n",
    "Train_df[C_columns].describe()"
   ]
  },
  {
   "cell_type": "markdown",
   "metadata": {},
   "source": [
    "- 대다수의 변수가 75%값에 비해 max값은 매우 큼 -> 이상하다? -> 90% 이상 파악해보기\n"
   ]
  },
  {
   "cell_type": "code",
   "execution_count": 63,
   "metadata": {},
   "outputs": [
    {
     "data": {
      "text/plain": [
       "C1      6.0\n",
       "C2      6.0\n",
       "C4      1.0\n",
       "C5      2.0\n",
       "C6      4.0\n",
       "C7      1.0\n",
       "C8      1.0\n",
       "C9      3.0\n",
       "C10     1.0\n",
       "C11     4.0\n",
       "C12     1.0\n",
       "C13    33.0\n",
       "C14     5.0\n",
       "Name: 0.9, dtype: float64"
      ]
     },
     "execution_count": 63,
     "metadata": {},
     "output_type": "execute_result"
    }
   ],
   "source": [
    "# 상위 90% 값 확인\n",
    "Train_df[C_columns].quantile(0.90)"
   ]
  },
  {
   "cell_type": "code",
   "execution_count": 64,
   "metadata": {},
   "outputs": [
    {
     "data": {
      "text/plain": [
       "C1      49.0\n",
       "C2      53.0\n",
       "C4       2.0\n",
       "C5       5.0\n",
       "C6      29.0\n",
       "C7       1.0\n",
       "C8       2.0\n",
       "C9       6.0\n",
       "C10      2.0\n",
       "C11     32.0\n",
       "C12      1.0\n",
       "C13    157.0\n",
       "C14     30.0\n",
       "Name: 0.95, dtype: float64"
      ]
     },
     "execution_count": 64,
     "metadata": {},
     "output_type": "execute_result"
    }
   ],
   "source": [
    "# 상위 95%값 확인\n",
    "Train_df[C_columns].quantile(0.95)"
   ]
  },
  {
   "cell_type": "code",
   "execution_count": 65,
   "metadata": {},
   "outputs": [
    {
     "data": {
      "text/plain": [
       "C1     1184.00\n",
       "C2     1490.01\n",
       "C4      817.00\n",
       "C5      136.00\n",
       "C6      827.00\n",
       "C7      638.01\n",
       "C8      925.02\n",
       "C9       82.00\n",
       "C10    1052.01\n",
       "C11     928.01\n",
       "C12     869.02\n",
       "C13     888.01\n",
       "C14     568.00\n",
       "Name: 0.99, dtype: float64"
      ]
     },
     "execution_count": 65,
     "metadata": {},
     "output_type": "execute_result"
    }
   ],
   "source": [
    "# 상위 99%값 확인\n",
    "# 변수마다 어디서 끊어야할지 reasonable한 지점을 찾기가 어렵다\n",
    "Train_df[C_columns].quantile(0.99)"
   ]
  },
  {
   "cell_type": "markdown",
   "metadata": {},
   "source": [
    "- C 관련 변수는 모두 치우침이 매우 심각함\n",
    "- 상위 95%값과 99% 값의 차이가 너무 많이 남\n",
    "- 변수로 활용하기 어려워보임 -> \n",
    "- 이진화를 하기에는 자르는 구간 설정이 어려움 -> \n",
    "- 해당 특징을 사용하려면 트리 계열 모델 사용이 필수적"
   ]
  },
  {
   "cell_type": "markdown",
   "metadata": {},
   "source": [
    "### 2.5.3 Card 1,2,3,5"
   ]
  },
  {
   "cell_type": "code",
   "execution_count": 66,
   "metadata": {},
   "outputs": [
    {
     "data": {
      "image/png": "[encoded data removed]",
      "text/plain": [
       "<Figure size 1440x360 with 1 Axes>"
      ]
     },
     "metadata": {
      "needs_background": "light"
     },
     "output_type": "display_data"
    },
    {
     "data": {
      "image/png": "[encoded data removed]",
      "text/plain": [
       "<Figure size 1440x360 with 1 Axes>"
      ]
     },
     "metadata": {
      "needs_background": "light"
     },
     "output_type": "display_data"
    },
    {
     "data": {
      "image/png": "[encoded data removed]",
      "text/plain": [
       "<Figure size 1440x360 with 1 Axes>"
      ]
     },
     "metadata": {
      "needs_background": "light"
     },
     "output_type": "display_data"
    },
    {
     "data": {
      "image/png": "[encoded data removed]",
      "text/plain": [
       "<Figure size 1440x360 with 1 Axes>"
      ]
     },
     "metadata": {
      "needs_background": "light"
     },
     "output_type": "display_data"
    }
   ],
   "source": [
    "card_columns = ['card1', 'card2', 'card3', 'card5']\n",
    "\n",
    "for col in card_columns:\n",
    "    plt.title(col)\n",
    "    Train_df[col].hist(bins = 100)\n",
    "    plt.show()"
   ]
  },
  {
   "cell_type": "markdown",
   "metadata": {},
   "source": [
    "- 히스토그램 확인: card3과 card5의 분포가 특이함 (치우침이 특정 방향으로 일어나지는 않았음. 사실상 범주 변수로 보는 것이 바람직)\n",
    "- 연속형 변수로 간주할 수 있는 card1과 card3은 결측 처리 필요"
   ]
  },
  {
   "cell_type": "code",
   "execution_count": 67,
   "metadata": {},
   "outputs": [
    {
     "data": {
      "text/html": [
       "<div>\n",
       "<style scoped>\n",
       "    .dataframe tbody tr th:only-of-type {\n",
       "        vertical-align: middle;\n",
       "    }\n",
       "\n",
       "    .dataframe tbody tr th {\n",
       "        vertical-align: top;\n",
       "    }\n",
       "\n",
       "    .dataframe thead th {\n",
       "        text-align: right;\n",
       "    }\n",
       "</style>\n",
       "<table border=\"1\" class=\"dataframe\">\n",
       "  <thead>\n",
       "    <tr style=\"text-align: right;\">\n",
       "      <th></th>\n",
       "      <th>card1</th>\n",
       "      <th>card2</th>\n",
       "      <th>card3</th>\n",
       "      <th>card5</th>\n",
       "    </tr>\n",
       "  </thead>\n",
       "  <tbody>\n",
       "    <tr>\n",
       "      <th>count</th>\n",
       "      <td>75000.000000</td>\n",
       "      <td>73971.000000</td>\n",
       "      <td>74997.000000</td>\n",
       "      <td>74599.000000</td>\n",
       "    </tr>\n",
       "    <tr>\n",
       "      <th>mean</th>\n",
       "      <td>9886.566853</td>\n",
       "      <td>370.992227</td>\n",
       "      <td>153.260237</td>\n",
       "      <td>200.081020</td>\n",
       "    </tr>\n",
       "    <tr>\n",
       "      <th>std</th>\n",
       "      <td>4932.240514</td>\n",
       "      <td>159.345323</td>\n",
       "      <td>11.209360</td>\n",
       "      <td>40.912836</td>\n",
       "    </tr>\n",
       "    <tr>\n",
       "      <th>min</th>\n",
       "      <td>1001.000000</td>\n",
       "      <td>100.000000</td>\n",
       "      <td>100.000000</td>\n",
       "      <td>100.000000</td>\n",
       "    </tr>\n",
       "    <tr>\n",
       "      <th>25%</th>\n",
       "      <td>6019.000000</td>\n",
       "      <td>215.000000</td>\n",
       "      <td>150.000000</td>\n",
       "      <td>166.000000</td>\n",
       "    </tr>\n",
       "    <tr>\n",
       "      <th>50%</th>\n",
       "      <td>9635.000000</td>\n",
       "      <td>387.000000</td>\n",
       "      <td>150.000000</td>\n",
       "      <td>226.000000</td>\n",
       "    </tr>\n",
       "    <tr>\n",
       "      <th>75%</th>\n",
       "      <td>14290.000000</td>\n",
       "      <td>514.000000</td>\n",
       "      <td>150.000000</td>\n",
       "      <td>226.000000</td>\n",
       "    </tr>\n",
       "    <tr>\n",
       "      <th>max</th>\n",
       "      <td>18395.000000</td>\n",
       "      <td>600.000000</td>\n",
       "      <td>227.000000</td>\n",
       "      <td>237.000000</td>\n",
       "    </tr>\n",
       "  </tbody>\n",
       "</table>\n",
       "</div>"
      ],
      "text/plain": [
       "              card1         card2         card3         card5\n",
       "count  75000.000000  73971.000000  74997.000000  74599.000000\n",
       "mean    9886.566853    370.992227    153.260237    200.081020\n",
       "std     4932.240514    159.345323     11.209360     40.912836\n",
       "min     1001.000000    100.000000    100.000000    100.000000\n",
       "25%     6019.000000    215.000000    150.000000    166.000000\n",
       "50%     9635.000000    387.000000    150.000000    226.000000\n",
       "75%    14290.000000    514.000000    150.000000    226.000000\n",
       "max    18395.000000    600.000000    227.000000    237.000000"
      ]
     },
     "execution_count": 67,
     "metadata": {},
     "output_type": "execute_result"
    }
   ],
   "source": [
    "# 값의 분포 확인\n",
    "Train_df[card_columns].describe()"
   ]
  },
  {
   "cell_type": "markdown",
   "metadata": {},
   "source": [
    "- card3은 25% 이상 모두 150인것을 확인(연속형 변수인데?)\n",
    "- card5도 마찬가지 논리로 다르게 생각할 수 있다."
   ]
  },
  {
   "cell_type": "code",
   "execution_count": 68,
   "metadata": {},
   "outputs": [
    {
     "data": {
      "text/plain": [
       "150.0    66407\n",
       "185.0     7292\n",
       "144.0      212\n",
       "106.0      139\n",
       "146.0      119\n",
       "         ...  \n",
       "105.0        1\n",
       "199.0        1\n",
       "111.0        1\n",
       "177.0        1\n",
       "220.0        1\n",
       "Name: card3, Length: 72, dtype: int64"
      ]
     },
     "execution_count": 68,
     "metadata": {},
     "output_type": "execute_result"
    }
   ],
   "source": [
    "# card 3\n",
    "Train_df['card3'].value_counts()"
   ]
  },
  {
   "cell_type": "code",
   "execution_count": 69,
   "metadata": {},
   "outputs": [
    {
     "data": {
      "text/plain": [
       "150.0    0.885462\n",
       "185.0    0.097231\n",
       "144.0    0.002827\n",
       "106.0    0.001853\n",
       "146.0    0.001587\n",
       "           ...   \n",
       "105.0    0.000013\n",
       "199.0    0.000013\n",
       "111.0    0.000013\n",
       "177.0    0.000013\n",
       "220.0    0.000013\n",
       "Name: card3, Length: 72, dtype: float64"
      ]
     },
     "execution_count": 69,
     "metadata": {},
     "output_type": "execute_result"
    }
   ],
   "source": [
    "Train_df['card3'].value_counts(normalize=True) # 150인지, 185인지 아닌지를 나타내는 변수로 변환 필요"
   ]
  },
  {
   "cell_type": "code",
   "execution_count": 70,
   "metadata": {},
   "outputs": [],
   "source": [
    "Train_df['card3_150'] = (Train_df['card3'] == 150).astype(int)\n",
    "Train_df['card3_185'] = (Train_df['card3'] == 185).astype(int)"
   ]
  },
  {
   "cell_type": "code",
   "execution_count": 71,
   "metadata": {},
   "outputs": [
    {
     "data": {
      "text/plain": [
       "card3_150\n",
       "0    0.089724\n",
       "1    0.017814\n",
       "Name: isFraud, dtype: float64"
      ]
     },
     "execution_count": 71,
     "metadata": {},
     "output_type": "execute_result"
    }
   ],
   "source": [
    "Train_df.groupby('card3_150')['isFraud'].mean() # 차이가 있음을 확인"
   ]
  },
  {
   "cell_type": "code",
   "execution_count": 72,
   "metadata": {},
   "outputs": [
    {
     "data": {
      "text/plain": [
       "card3_185\n",
       "0    0.017827\n",
       "1    0.102441\n",
       "Name: isFraud, dtype: float64"
      ]
     },
     "execution_count": 72,
     "metadata": {},
     "output_type": "execute_result"
    }
   ],
   "source": [
    "Train_df.groupby('card3_185')['isFraud'].mean() # 차이가 있음을 확인"
   ]
  },
  {
   "cell_type": "code",
   "execution_count": 73,
   "metadata": {},
   "outputs": [
    {
     "data": {
      "text/plain": [
       "226.0    38596\n",
       "224.0     9106\n",
       "166.0     5745\n",
       "102.0     4322\n",
       "117.0     2697\n",
       "         ...  \n",
       "187.0        1\n",
       "173.0        1\n",
       "180.0        1\n",
       "184.0        1\n",
       "169.0        1\n",
       "Name: card5, Length: 82, dtype: int64"
      ]
     },
     "execution_count": 73,
     "metadata": {},
     "output_type": "execute_result"
    }
   ],
   "source": [
    "# card 5\n",
    "Train_df['card5'].value_counts() "
   ]
  },
  {
   "cell_type": "code",
   "execution_count": 74,
   "metadata": {},
   "outputs": [],
   "source": [
    "# 사전 EDA -> 226인지 아닌지를 나타내는 변수로 변환 필요\n",
    "Train_df['card5_226'] = (Train_df['card5'] == 226).astype(int)"
   ]
  },
  {
   "cell_type": "code",
   "execution_count": 75,
   "metadata": {},
   "outputs": [
    {
     "data": {
      "text/plain": [
       "card5_226\n",
       "0    0.031178\n",
       "1    0.021220\n",
       "Name: isFraud, dtype: float64"
      ]
     },
     "execution_count": 75,
     "metadata": {},
     "output_type": "execute_result"
    }
   ],
   "source": [
    "Train_df.groupby('card5_226')['isFraud'].mean() # 차이가 있음을 확인"
   ]
  },
  {
   "cell_type": "markdown",
   "metadata": {},
   "source": [
    "# 3. 데이터 전처리\n",
    "- 탐색한 내용들을 반영"
   ]
  },
  {
   "cell_type": "markdown",
   "metadata": {},
   "source": [
    "## 3.1 이진화\n",
    "- 특정 값을 갖는 변수로 변환하면, 결측 값은 자동을 0을 가지게 되므로 결측처리도 생략 가능\n"
   ]
  },
  {
   "cell_type": "markdown",
   "metadata": {},
   "source": [
    "#### Card4 이진화 => american express 라는 값을 가지는지 여부를 나타내는 변수로 변환"
   ]
  },
  {
   "cell_type": "code",
   "execution_count": 76,
   "metadata": {},
   "outputs": [],
   "source": [
    "# 학습데이터\n",
    "Train_X['american_express'] = 0\n",
    "Train_X['american_express']=Train_X['american_express']+(Train_X['card4'] == 'american express').astype(int)\n",
    "\n",
    "# 기존 변수는 제거\n",
    "Train_X.drop('card4', axis = 1, inplace = True) #memory"
   ]
  },
  {
   "cell_type": "code",
   "execution_count": 77,
   "metadata": {},
   "outputs": [
    {
     "data": {
      "text/html": [
       "<div>\n",
       "<style scoped>\n",
       "    .dataframe tbody tr th:only-of-type {\n",
       "        vertical-align: middle;\n",
       "    }\n",
       "\n",
       "    .dataframe tbody tr th {\n",
       "        vertical-align: top;\n",
       "    }\n",
       "\n",
       "    .dataframe thead th {\n",
       "        text-align: right;\n",
       "    }\n",
       "</style>\n",
       "<table border=\"1\" class=\"dataframe\">\n",
       "  <thead>\n",
       "    <tr style=\"text-align: right;\">\n",
       "      <th></th>\n",
       "      <th>TransactionAmt</th>\n",
       "      <th>ProductCD</th>\n",
       "      <th>card1</th>\n",
       "      <th>card2</th>\n",
       "      <th>card3</th>\n",
       "      <th>card5</th>\n",
       "      <th>card6</th>\n",
       "      <th>P_emaildomain</th>\n",
       "      <th>R_emaildomain</th>\n",
       "      <th>C1</th>\n",
       "      <th>...</th>\n",
       "      <th>M1</th>\n",
       "      <th>M2</th>\n",
       "      <th>M3</th>\n",
       "      <th>M4</th>\n",
       "      <th>M5</th>\n",
       "      <th>M6</th>\n",
       "      <th>M7</th>\n",
       "      <th>M8</th>\n",
       "      <th>M9</th>\n",
       "      <th>american_express</th>\n",
       "    </tr>\n",
       "  </thead>\n",
       "  <tbody>\n",
       "    <tr>\n",
       "      <th>98980</th>\n",
       "      <td>35.00</td>\n",
       "      <td>H</td>\n",
       "      <td>13906</td>\n",
       "      <td>369.0</td>\n",
       "      <td>150.0</td>\n",
       "      <td>117.0</td>\n",
       "      <td>debit</td>\n",
       "      <td>aol.com</td>\n",
       "      <td>NaN</td>\n",
       "      <td>1.0</td>\n",
       "      <td>...</td>\n",
       "      <td>NaN</td>\n",
       "      <td>NaN</td>\n",
       "      <td>NaN</td>\n",
       "      <td>NaN</td>\n",
       "      <td>NaN</td>\n",
       "      <td>NaN</td>\n",
       "      <td>NaN</td>\n",
       "      <td>NaN</td>\n",
       "      <td>NaN</td>\n",
       "      <td>0</td>\n",
       "    </tr>\n",
       "    <tr>\n",
       "      <th>69824</th>\n",
       "      <td>155.21</td>\n",
       "      <td>W</td>\n",
       "      <td>7508</td>\n",
       "      <td>321.0</td>\n",
       "      <td>150.0</td>\n",
       "      <td>226.0</td>\n",
       "      <td>debit</td>\n",
       "      <td>anonymous.com</td>\n",
       "      <td>NaN</td>\n",
       "      <td>1.0</td>\n",
       "      <td>...</td>\n",
       "      <td>T</td>\n",
       "      <td>T</td>\n",
       "      <td>T</td>\n",
       "      <td>NaN</td>\n",
       "      <td>NaN</td>\n",
       "      <td>NaN</td>\n",
       "      <td>T</td>\n",
       "      <td>T</td>\n",
       "      <td>T</td>\n",
       "      <td>0</td>\n",
       "    </tr>\n",
       "    <tr>\n",
       "      <th>9928</th>\n",
       "      <td>31.96</td>\n",
       "      <td>W</td>\n",
       "      <td>1310</td>\n",
       "      <td>206.0</td>\n",
       "      <td>150.0</td>\n",
       "      <td>166.0</td>\n",
       "      <td>debit</td>\n",
       "      <td>gmail.com</td>\n",
       "      <td>NaN</td>\n",
       "      <td>50.0</td>\n",
       "      <td>...</td>\n",
       "      <td>NaN</td>\n",
       "      <td>NaN</td>\n",
       "      <td>NaN</td>\n",
       "      <td>NaN</td>\n",
       "      <td>NaN</td>\n",
       "      <td>T</td>\n",
       "      <td>NaN</td>\n",
       "      <td>NaN</td>\n",
       "      <td>NaN</td>\n",
       "      <td>0</td>\n",
       "    </tr>\n",
       "    <tr>\n",
       "      <th>75599</th>\n",
       "      <td>250.00</td>\n",
       "      <td>R</td>\n",
       "      <td>7526</td>\n",
       "      <td>520.0</td>\n",
       "      <td>150.0</td>\n",
       "      <td>190.0</td>\n",
       "      <td>credit</td>\n",
       "      <td>anonymous.com</td>\n",
       "      <td>anonymous.com</td>\n",
       "      <td>2.0</td>\n",
       "      <td>...</td>\n",
       "      <td>NaN</td>\n",
       "      <td>NaN</td>\n",
       "      <td>NaN</td>\n",
       "      <td>NaN</td>\n",
       "      <td>NaN</td>\n",
       "      <td>NaN</td>\n",
       "      <td>NaN</td>\n",
       "      <td>NaN</td>\n",
       "      <td>NaN</td>\n",
       "      <td>1</td>\n",
       "    </tr>\n",
       "    <tr>\n",
       "      <th>95621</th>\n",
       "      <td>59.00</td>\n",
       "      <td>W</td>\n",
       "      <td>1906</td>\n",
       "      <td>199.0</td>\n",
       "      <td>150.0</td>\n",
       "      <td>224.0</td>\n",
       "      <td>debit</td>\n",
       "      <td>gmail.com</td>\n",
       "      <td>NaN</td>\n",
       "      <td>1.0</td>\n",
       "      <td>...</td>\n",
       "      <td>T</td>\n",
       "      <td>T</td>\n",
       "      <td>F</td>\n",
       "      <td>M1</td>\n",
       "      <td>F</td>\n",
       "      <td>F</td>\n",
       "      <td>T</td>\n",
       "      <td>T</td>\n",
       "      <td>T</td>\n",
       "      <td>0</td>\n",
       "    </tr>\n",
       "    <tr>\n",
       "      <th>...</th>\n",
       "      <td>...</td>\n",
       "      <td>...</td>\n",
       "      <td>...</td>\n",
       "      <td>...</td>\n",
       "      <td>...</td>\n",
       "      <td>...</td>\n",
       "      <td>...</td>\n",
       "      <td>...</td>\n",
       "      <td>...</td>\n",
       "      <td>...</td>\n",
       "      <td>...</td>\n",
       "      <td>...</td>\n",
       "      <td>...</td>\n",
       "      <td>...</td>\n",
       "      <td>...</td>\n",
       "      <td>...</td>\n",
       "      <td>...</td>\n",
       "      <td>...</td>\n",
       "      <td>...</td>\n",
       "      <td>...</td>\n",
       "      <td>...</td>\n",
       "    </tr>\n",
       "    <tr>\n",
       "      <th>6265</th>\n",
       "      <td>10.99</td>\n",
       "      <td>W</td>\n",
       "      <td>10989</td>\n",
       "      <td>360.0</td>\n",
       "      <td>150.0</td>\n",
       "      <td>166.0</td>\n",
       "      <td>debit</td>\n",
       "      <td>gmail.com</td>\n",
       "      <td>NaN</td>\n",
       "      <td>1.0</td>\n",
       "      <td>...</td>\n",
       "      <td>T</td>\n",
       "      <td>T</td>\n",
       "      <td>T</td>\n",
       "      <td>M0</td>\n",
       "      <td>F</td>\n",
       "      <td>F</td>\n",
       "      <td>NaN</td>\n",
       "      <td>NaN</td>\n",
       "      <td>NaN</td>\n",
       "      <td>0</td>\n",
       "    </tr>\n",
       "    <tr>\n",
       "      <th>54886</th>\n",
       "      <td>117.00</td>\n",
       "      <td>W</td>\n",
       "      <td>11454</td>\n",
       "      <td>111.0</td>\n",
       "      <td>150.0</td>\n",
       "      <td>226.0</td>\n",
       "      <td>debit</td>\n",
       "      <td>hotmail.com</td>\n",
       "      <td>NaN</td>\n",
       "      <td>2.0</td>\n",
       "      <td>...</td>\n",
       "      <td>NaN</td>\n",
       "      <td>NaN</td>\n",
       "      <td>NaN</td>\n",
       "      <td>M0</td>\n",
       "      <td>F</td>\n",
       "      <td>T</td>\n",
       "      <td>NaN</td>\n",
       "      <td>NaN</td>\n",
       "      <td>NaN</td>\n",
       "      <td>0</td>\n",
       "    </tr>\n",
       "    <tr>\n",
       "      <th>76820</th>\n",
       "      <td>67.95</td>\n",
       "      <td>W</td>\n",
       "      <td>1974</td>\n",
       "      <td>111.0</td>\n",
       "      <td>150.0</td>\n",
       "      <td>226.0</td>\n",
       "      <td>debit</td>\n",
       "      <td>NaN</td>\n",
       "      <td>NaN</td>\n",
       "      <td>27.0</td>\n",
       "      <td>...</td>\n",
       "      <td>T</td>\n",
       "      <td>T</td>\n",
       "      <td>T</td>\n",
       "      <td>NaN</td>\n",
       "      <td>NaN</td>\n",
       "      <td>T</td>\n",
       "      <td>NaN</td>\n",
       "      <td>NaN</td>\n",
       "      <td>NaN</td>\n",
       "      <td>0</td>\n",
       "    </tr>\n",
       "    <tr>\n",
       "      <th>860</th>\n",
       "      <td>47.95</td>\n",
       "      <td>W</td>\n",
       "      <td>15497</td>\n",
       "      <td>490.0</td>\n",
       "      <td>150.0</td>\n",
       "      <td>226.0</td>\n",
       "      <td>debit</td>\n",
       "      <td>gmail.com</td>\n",
       "      <td>NaN</td>\n",
       "      <td>1.0</td>\n",
       "      <td>...</td>\n",
       "      <td>NaN</td>\n",
       "      <td>NaN</td>\n",
       "      <td>NaN</td>\n",
       "      <td>NaN</td>\n",
       "      <td>NaN</td>\n",
       "      <td>F</td>\n",
       "      <td>NaN</td>\n",
       "      <td>NaN</td>\n",
       "      <td>NaN</td>\n",
       "      <td>0</td>\n",
       "    </tr>\n",
       "    <tr>\n",
       "      <th>15795</th>\n",
       "      <td>275.97</td>\n",
       "      <td>W</td>\n",
       "      <td>1761</td>\n",
       "      <td>383.0</td>\n",
       "      <td>150.0</td>\n",
       "      <td>226.0</td>\n",
       "      <td>debit</td>\n",
       "      <td>gmail.com</td>\n",
       "      <td>NaN</td>\n",
       "      <td>1.0</td>\n",
       "      <td>...</td>\n",
       "      <td>NaN</td>\n",
       "      <td>NaN</td>\n",
       "      <td>NaN</td>\n",
       "      <td>NaN</td>\n",
       "      <td>NaN</td>\n",
       "      <td>F</td>\n",
       "      <td>NaN</td>\n",
       "      <td>NaN</td>\n",
       "      <td>NaN</td>\n",
       "      <td>0</td>\n",
       "    </tr>\n",
       "  </tbody>\n",
       "</table>\n",
       "<p>75000 rows × 33 columns</p>\n",
       "</div>"
      ],
      "text/plain": [
       "       TransactionAmt ProductCD  card1  card2  card3  card5   card6  \\\n",
       "98980           35.00         H  13906  369.0  150.0  117.0   debit   \n",
       "69824          155.21         W   7508  321.0  150.0  226.0   debit   \n",
       "9928            31.96         W   1310  206.0  150.0  166.0   debit   \n",
       "75599          250.00         R   7526  520.0  150.0  190.0  credit   \n",
       "95621           59.00         W   1906  199.0  150.0  224.0   debit   \n",
       "...               ...       ...    ...    ...    ...    ...     ...   \n",
       "6265            10.99         W  10989  360.0  150.0  166.0   debit   \n",
       "54886          117.00         W  11454  111.0  150.0  226.0   debit   \n",
       "76820           67.95         W   1974  111.0  150.0  226.0   debit   \n",
       "860             47.95         W  15497  490.0  150.0  226.0   debit   \n",
       "15795          275.97         W   1761  383.0  150.0  226.0   debit   \n",
       "\n",
       "       P_emaildomain  R_emaildomain    C1  ...   M1   M2   M3   M4   M5   M6  \\\n",
       "98980        aol.com            NaN   1.0  ...  NaN  NaN  NaN  NaN  NaN  NaN   \n",
       "69824  anonymous.com            NaN   1.0  ...    T    T    T  NaN  NaN  NaN   \n",
       "9928       gmail.com            NaN  50.0  ...  NaN  NaN  NaN  NaN  NaN    T   \n",
       "75599  anonymous.com  anonymous.com   2.0  ...  NaN  NaN  NaN  NaN  NaN  NaN   \n",
       "95621      gmail.com            NaN   1.0  ...    T    T    F   M1    F    F   \n",
       "...              ...            ...   ...  ...  ...  ...  ...  ...  ...  ...   \n",
       "6265       gmail.com            NaN   1.0  ...    T    T    T   M0    F    F   \n",
       "54886    hotmail.com            NaN   2.0  ...  NaN  NaN  NaN   M0    F    T   \n",
       "76820            NaN            NaN  27.0  ...    T    T    T  NaN  NaN    T   \n",
       "860        gmail.com            NaN   1.0  ...  NaN  NaN  NaN  NaN  NaN    F   \n",
       "15795      gmail.com            NaN   1.0  ...  NaN  NaN  NaN  NaN  NaN    F   \n",
       "\n",
       "        M7   M8   M9  american_express  \n",
       "98980  NaN  NaN  NaN                 0  \n",
       "69824    T    T    T                 0  \n",
       "9928   NaN  NaN  NaN                 0  \n",
       "75599  NaN  NaN  NaN                 1  \n",
       "95621    T    T    T                 0  \n",
       "...    ...  ...  ...               ...  \n",
       "6265   NaN  NaN  NaN                 0  \n",
       "54886  NaN  NaN  NaN                 0  \n",
       "76820  NaN  NaN  NaN                 0  \n",
       "860    NaN  NaN  NaN                 0  \n",
       "15795  NaN  NaN  NaN                 0  \n",
       "\n",
       "[75000 rows x 33 columns]"
      ]
     },
     "execution_count": 77,
     "metadata": {},
     "output_type": "execute_result"
    }
   ],
   "source": [
    "Train_X"
   ]
  },
  {
   "cell_type": "markdown",
   "metadata": {},
   "source": [
    "#### Card6 이진화 : Credit이라는 값을 가지는지 여부를 나타내는 변수로 변환"
   ]
  },
  {
   "cell_type": "code",
   "execution_count": 78,
   "metadata": {},
   "outputs": [],
   "source": [
    "# 학습데이터\n",
    "Train_X['credit'] = 0\n",
    "Train_X['credit']=Train_X['credit']+(Train_X['card6'] == 'credit').astype(int)\n",
    "\n",
    "# 기존 변수는 제거\n",
    "Train_X.drop('card6', axis = 1, inplace = True) #memory"
   ]
  },
  {
   "cell_type": "markdown",
   "metadata": {},
   "source": [
    "- #### Na_R_emaildomain 변수 생성 : R_emaildomain 변수가 결측인지를 나타내는 변수 생성\n",
    "- #### same_email 변수 생성(R_emaildomain, P_emaildomain이랑 같은지) 및 기존 변수 삭제"
   ]
  },
  {
   "cell_type": "code",
   "execution_count": 79,
   "metadata": {},
   "outputs": [],
   "source": [
    "# NA_R_emaildomain 생성\n",
    "Train_X['NA_R_emaildomain'] = (Train_X['R_emaildomain'].isnull()).astype(int)\n",
    "\n",
    "# same_email 생성\n",
    "Train_X['same_emaildomain'] = (Train_X['P_emaildomain'] == Train_X['R_emaildomain']).astype(int)\n",
    "\n",
    "# 기존 변수 제거\n",
    "Train_X.drop(['P_emaildomain', 'R_emaildomain'], axis = 1, inplace = True)"
   ]
  },
  {
   "cell_type": "markdown",
   "metadata": {},
   "source": [
    "#### C3_over_1 변수 생성 : C3 값이 1보다 크거나 같은지를 나타내는 변수 생성"
   ]
  },
  {
   "cell_type": "code",
   "execution_count": 80,
   "metadata": {},
   "outputs": [],
   "source": [
    "Train_X['C3_over_1'] = (Train_X['C3'] >= 1).astype(int)\n",
    "Train_X.drop(['C3'], axis = 1, inplace = True)"
   ]
  },
  {
   "cell_type": "markdown",
   "metadata": {},
   "source": [
    "## 3.2 결측 대체 및 더미화 수행"
   ]
  },
  {
   "cell_type": "markdown",
   "metadata": {},
   "source": [
    "#### - 더미화 수행하기위해, M1~M9 변수에 발생한 결측 값을 문자로 치환  \n",
    "#### - ProductCD변수와 M1-M9 변수에 대한 더미화 수행  "
   ]
  },
  {
   "cell_type": "code",
   "execution_count": 81,
   "metadata": {},
   "outputs": [
    {
     "data": {
      "text/plain": [
       "['M1', 'M2', 'M3', 'M4', 'M5', 'M6', 'M7', 'M8', 'M9']"
      ]
     },
     "execution_count": 81,
     "metadata": {},
     "output_type": "execute_result"
    }
   ],
   "source": [
    "M_columns"
   ]
  },
  {
   "cell_type": "code",
   "execution_count": 82,
   "metadata": {},
   "outputs": [],
   "source": [
    "Train_X[M_columns] = Train_X[M_columns].fillna(\"결측\")\n"
   ]
  },
  {
   "cell_type": "code",
   "execution_count": 83,
   "metadata": {},
   "outputs": [],
   "source": [
    "#! pip install feature_engine\n",
    "from feature_engine.encoding import OneHotEncoder as OHE"
   ]
  },
  {
   "cell_type": "code",
   "execution_count": 84,
   "metadata": {},
   "outputs": [],
   "source": [
    "dummy_model = OHE(variables = M_columns + ['ProductCD'], drop_last = True).fit(Train_X)\n",
    "Train_X = dummy_model.transform(Train_X)"
   ]
  },
  {
   "cell_type": "code",
   "execution_count": 85,
   "metadata": {},
   "outputs": [
    {
     "data": {
      "text/plain": [
       "Index(['TransactionAmt', 'card1', 'card2', 'card3', 'card5', 'C1', 'C2', 'C4',\n",
       "       'C5', 'C6', 'C7', 'C8', 'C9', 'C10', 'C11', 'C12', 'C13', 'C14',\n",
       "       'american_express', 'credit', 'NA_R_emaildomain', 'same_emaildomain',\n",
       "       'C3_over_1', 'M1_결측', 'M2_결측', 'M2_T', 'M3_결측', 'M3_T', 'M4_결측',\n",
       "       'M4_M1', 'M4_M0', 'M5_결측', 'M5_F', 'M6_결측', 'M6_T', 'M7_결측', 'M7_T',\n",
       "       'M8_결측', 'M8_T', 'M9_결측', 'M9_T', 'ProductCD_H', 'ProductCD_W',\n",
       "       'ProductCD_R', 'ProductCD_C'],\n",
       "      dtype='object')"
      ]
     },
     "execution_count": 85,
     "metadata": {},
     "output_type": "execute_result"
    }
   ],
   "source": [
    "Train_X.columns"
   ]
  },
  {
   "cell_type": "markdown",
   "metadata": {},
   "source": [
    "## 3.3 치우침 해소\n",
    "- log 변환을 통해, TransactionAmt 에 있는 변수 치우침 해결"
   ]
  },
  {
   "cell_type": "code",
   "execution_count": 86,
   "metadata": {},
   "outputs": [],
   "source": [
    "Train_X['TransactionAmt'] = np.log(Train_X['TransactionAmt'])\n"
   ]
  },
  {
   "cell_type": "markdown",
   "metadata": {},
   "source": [
    "## 3.4 연속형 변수를 이진화\n",
    "- #### Card3 변수를 150인지, 185인지 나타내는 변수 생성\n",
    "- #### Card5 변수를 226인지를 나타내는 변수 생성"
   ]
  },
  {
   "cell_type": "code",
   "execution_count": 87,
   "metadata": {},
   "outputs": [],
   "source": [
    "Train_X['card3_150'] = (Train_X['card3'] == 150).astype(int)\n",
    "Train_X['card3_185'] = (Train_X['card3'] == 185).astype(int)\n",
    "Train_X['card5_226'] = (Train_X['card5'] == 226).astype(int)\n",
    "\n",
    "Train_X.drop(['card3', 'card5'], axis = 1, inplace = True)"
   ]
  },
  {
   "cell_type": "markdown",
   "metadata": {},
   "source": [
    "## 3.5 결측 대체\n",
    "#### - 이진화가 되지 않은 변수에 대한 결측치를 처리하기 위해, Imputer 를 사용"
   ]
  },
  {
   "cell_type": "code",
   "execution_count": 88,
   "metadata": {},
   "outputs": [],
   "source": [
    "from sklearn.impute import SimpleImputer as SI\n",
    "imputer = SI().fit(Train_X)"
   ]
  },
  {
   "cell_type": "code",
   "execution_count": 89,
   "metadata": {},
   "outputs": [],
   "source": [
    "Train_X = pd.DataFrame(imputer.transform(Train_X), columns = Train_X.columns)\n"
   ]
  },
  {
   "cell_type": "markdown",
   "metadata": {},
   "source": [
    "## 3.6 Target 클래스 불균형 문제\n",
    "#### - 단순 정확도를 base로 진행하면 정작 중요한 사기거래를 탐지하지 못할 수 있다.\n",
    "#### - 불균형을 고려한 roc_auc 점수를 기준으로 모델 학습을 진행한다"
   ]
  },
  {
   "cell_type": "markdown",
   "metadata": {},
   "source": [
    "# 4. 모델 학습"
   ]
  },
  {
   "cell_type": "code",
   "execution_count": 90,
   "metadata": {},
   "outputs": [],
   "source": [
    "from lightgbm import LGBMClassifier\n",
    "from sklearn.ensemble import RandomForestClassifier"
   ]
  },
  {
   "cell_type": "markdown",
   "metadata": {},
   "source": [
    "## CV"
   ]
  },
  {
   "cell_type": "code",
   "execution_count": 91,
   "metadata": {},
   "outputs": [
    {
     "name": "stdout",
     "output_type": "stream",
     "text": [
      "RF Best params: {'max_depth': 6, 'n_estimators': 200}\n",
      "RF Best Accuracy: 0.8704782461261271\n"
     ]
    }
   ],
   "source": [
    "from sklearn.model_selection import GridSearchCV\n",
    "\n",
    "params={\n",
    "    'n_estimators':[100,200],\n",
    "    'max_depth':[2,3,4,5,6]\n",
    "}\n",
    "\n",
    "# RandomForestClassifier 객체 생성 후 GridsearchCV 수행\n",
    "rf_clf=RandomForestClassifier(random_state=0,n_jobs=-1)   # n_jobs : 사용할 cpu 코어수 # -1은 전부 사용한다는 뜻\n",
    "grid_cv_rf=GridSearchCV(rf_clf,param_grid=params,cv=5,scoring=\"roc_auc\")\n",
    "\n",
    "# 훈련 & best 파라미터 선정\n",
    "grid_cv_rf.fit(Train_X,Train_Y)\n",
    "\n",
    "print('RF Best params:',grid_cv_rf.best_params_)\n",
    "print('RF Best Accuracy:',grid_cv_rf.best_score_)"
   ]
  },
  {
   "cell_type": "code",
   "execution_count": 92,
   "metadata": {},
   "outputs": [
    {
     "name": "stdout",
     "output_type": "stream",
     "text": [
      "lgb Best params: {'learning_rate': 0.2, 'max_depth': 6, 'n_estimators': 200}\n",
      "lgb Best Accuracy: 0.9276086216410956\n"
     ]
    }
   ],
   "source": [
    "lgbm_clf = LGBMClassifier()\n",
    "\n",
    "params_lgb={\n",
    "    'n_estimators':[100,200],\n",
    "    'max_depth':[3,4,5,6],\n",
    "    'learning_rate':[0.05,0.1,0.2]\n",
    "}\n",
    "\n",
    "# RandomForestClassifier 객체 생성 후 GridsearchCV 수행\n",
    "grid_cv_lgb=GridSearchCV(lgbm_clf,param_grid=params_lgb,cv=5,scoring=\"roc_auc\")\n",
    "\n",
    "# 훈련 & best 파라미터 선정\n",
    "grid_cv_lgb.fit(Train_X,Train_Y)\n",
    "\n",
    "\n",
    "print('lgb Best params:',grid_cv_lgb.best_params_)\n",
    "print('lgb Best Accuracy:',grid_cv_lgb.best_score_)\n"
   ]
  },
  {
   "cell_type": "markdown",
   "metadata": {},
   "source": [
    "### Best Model"
   ]
  },
  {
   "cell_type": "code",
   "execution_count": 93,
   "metadata": {},
   "outputs": [],
   "source": [
    "RF_best=RandomForestClassifier(n_estimators=200,max_depth=6,random_state=0,n_jobs=-1)\n",
    "lgb_best=LGBMClassifier(learning_rate=0.2,max_depth=6,n_estimator=200)\n"
   ]
  },
  {
   "cell_type": "code",
   "execution_count": 94,
   "metadata": {},
   "outputs": [
    {
     "data": {
      "text/plain": [
       "LGBMClassifier(learning_rate=0.2, max_depth=6, n_estimator=200)"
      ]
     },
     "execution_count": 94,
     "metadata": {},
     "output_type": "execute_result"
    }
   ],
   "source": [
    "RF_best.fit(Train_X,Train_Y)\n",
    "lgb_best.fit(Train_X,Train_Y)"
   ]
  },
  {
   "cell_type": "code",
   "execution_count": null,
   "metadata": {},
   "outputs": [],
   "source": []
  },
  {
   "cell_type": "code",
   "execution_count": null,
   "metadata": {},
   "outputs": [],
   "source": []
  },
  {
   "cell_type": "code",
   "execution_count": null,
   "metadata": {},
   "outputs": [],
   "source": []
  },
  {
   "cell_type": "markdown",
   "metadata": {},
   "source": [
    "# Test 데이터 전처리"
   ]
  },
  {
   "cell_type": "code",
   "execution_count": 95,
   "metadata": {},
   "outputs": [],
   "source": [
    "def pipeline(input_data, dummy_model, imputer, features): # 예측용\n",
    "    '''\n",
    "    input_data, dummy_model, imputer, features : 전처리용 \n",
    "    model : 예측용 \n",
    "    원본 유지를 위해 copy활용하여 유지하면서, \n",
    "    전처리에 활용했던 기존 변수는 사용하고 지우고의 반복\n",
    "    '''\n",
    "    input_data_copy = input_data.copy()\n",
    "    input_data_copy.drop(['TransactionID', 'TransactionDT'], axis = 1, inplace = True)\n",
    "    \n",
    "    # 범주형 변수: 이진화 및 파생 변수 생성\n",
    "    input_data_copy['american_express'] = (input_data_copy.loc[:, 'card4'] == 'american express').astype(int)\n",
    "    input_data_copy.drop('card4', axis = 1, inplace = True)\n",
    "\n",
    "    input_data_copy['credit'] = (input_data_copy.loc[:, 'card6'] == 'credit').astype(int)\n",
    "    input_data_copy.drop('card6', axis = 1, inplace = True)    \n",
    "        \n",
    "    input_data_copy['NA_R_emaildomain'] = (input_data_copy['R_emaildomain'].isnull()).astype(int)\n",
    "    input_data_copy['same_emaildomain'] = (input_data_copy['P_emaildomain'] == input_data_copy['R_emaildomain']).astype(int)\n",
    "    input_data_copy.drop(['P_emaildomain', 'R_emaildomain'], axis = 1, inplace = True)    \n",
    "    input_data_copy['C3_over_1'] = (input_data_copy['C3'] >= 1).astype(int)\n",
    "    input_data_copy.drop(['C3'], axis = 1, inplace = True)\n",
    "    \n",
    "    M_columns = ['M' + str(i) for i in range(1, 10)]    \n",
    "    input_data_copy[M_columns] = input_data_copy[M_columns].fillna(\"결측\")\n",
    "    input_data_copy = dummy_model.transform(input_data_copy)  \n",
    "    \n",
    "    # 연속형 변수 처리\n",
    "    input_data_copy['TransactionAmt'] = np.log(input_data_copy['TransactionAmt'])    \n",
    "    \n",
    "    input_data_copy['card3_150'] = (input_data_copy['card3'] == 150).astype(int)\n",
    "    input_data_copy['card3_185'] = (input_data_copy['card3'] == 185).astype(int)\n",
    "    input_data_copy['card5_226'] = (input_data_copy['card5'] == 226).astype(int) \n",
    "    input_data_copy.drop(['card3', 'card5'], axis = 1, inplace = True)\n",
    "    \n",
    "    input_data_copy = pd.DataFrame(imputer.transform(input_data_copy), columns = input_data_copy.columns)\n",
    "    input_data_copy = input_data_copy[features]\n",
    "    \n",
    "    return input_data_copy"
   ]
  },
  {
   "cell_type": "code",
   "execution_count": 98,
   "metadata": {},
   "outputs": [],
   "source": [
    "Test=Test_X.copy()"
   ]
  },
  {
   "cell_type": "code",
   "execution_count": 99,
   "metadata": {},
   "outputs": [
    {
     "data": {
      "text/html": [
       "<div>\n",
       "<style scoped>\n",
       "    .dataframe tbody tr th:only-of-type {\n",
       "        vertical-align: middle;\n",
       "    }\n",
       "\n",
       "    .dataframe tbody tr th {\n",
       "        vertical-align: top;\n",
       "    }\n",
       "\n",
       "    .dataframe thead th {\n",
       "        text-align: right;\n",
       "    }\n",
       "</style>\n",
       "<table border=\"1\" class=\"dataframe\">\n",
       "  <thead>\n",
       "    <tr style=\"text-align: right;\">\n",
       "      <th></th>\n",
       "      <th>TransactionID</th>\n",
       "      <th>TransactionDT</th>\n",
       "      <th>TransactionAmt</th>\n",
       "      <th>ProductCD</th>\n",
       "      <th>card1</th>\n",
       "      <th>card2</th>\n",
       "      <th>card3</th>\n",
       "      <th>card4</th>\n",
       "      <th>card5</th>\n",
       "      <th>card6</th>\n",
       "      <th>...</th>\n",
       "      <th>C14</th>\n",
       "      <th>M1</th>\n",
       "      <th>M2</th>\n",
       "      <th>M3</th>\n",
       "      <th>M4</th>\n",
       "      <th>M5</th>\n",
       "      <th>M6</th>\n",
       "      <th>M7</th>\n",
       "      <th>M8</th>\n",
       "      <th>M9</th>\n",
       "    </tr>\n",
       "  </thead>\n",
       "  <tbody>\n",
       "    <tr>\n",
       "      <th>75721</th>\n",
       "      <td>3062721</td>\n",
       "      <td>1651124</td>\n",
       "      <td>75.00</td>\n",
       "      <td>R</td>\n",
       "      <td>6019</td>\n",
       "      <td>583.0</td>\n",
       "      <td>150.0</td>\n",
       "      <td>visa</td>\n",
       "      <td>226.0</td>\n",
       "      <td>credit</td>\n",
       "      <td>...</td>\n",
       "      <td>1.0</td>\n",
       "      <td>NaN</td>\n",
       "      <td>NaN</td>\n",
       "      <td>NaN</td>\n",
       "      <td>NaN</td>\n",
       "      <td>NaN</td>\n",
       "      <td>NaN</td>\n",
       "      <td>NaN</td>\n",
       "      <td>NaN</td>\n",
       "      <td>NaN</td>\n",
       "    </tr>\n",
       "    <tr>\n",
       "      <th>80184</th>\n",
       "      <td>3067184</td>\n",
       "      <td>1726414</td>\n",
       "      <td>201.00</td>\n",
       "      <td>W</td>\n",
       "      <td>1986</td>\n",
       "      <td>502.0</td>\n",
       "      <td>150.0</td>\n",
       "      <td>visa</td>\n",
       "      <td>226.0</td>\n",
       "      <td>credit</td>\n",
       "      <td>...</td>\n",
       "      <td>1.0</td>\n",
       "      <td>NaN</td>\n",
       "      <td>NaN</td>\n",
       "      <td>NaN</td>\n",
       "      <td>M0</td>\n",
       "      <td>F</td>\n",
       "      <td>F</td>\n",
       "      <td>NaN</td>\n",
       "      <td>NaN</td>\n",
       "      <td>NaN</td>\n",
       "    </tr>\n",
       "    <tr>\n",
       "      <th>19864</th>\n",
       "      <td>3006864</td>\n",
       "      <td>515571</td>\n",
       "      <td>58.95</td>\n",
       "      <td>W</td>\n",
       "      <td>7919</td>\n",
       "      <td>194.0</td>\n",
       "      <td>150.0</td>\n",
       "      <td>mastercard</td>\n",
       "      <td>202.0</td>\n",
       "      <td>debit</td>\n",
       "      <td>...</td>\n",
       "      <td>1.0</td>\n",
       "      <td>NaN</td>\n",
       "      <td>NaN</td>\n",
       "      <td>NaN</td>\n",
       "      <td>NaN</td>\n",
       "      <td>NaN</td>\n",
       "      <td>T</td>\n",
       "      <td>NaN</td>\n",
       "      <td>NaN</td>\n",
       "      <td>NaN</td>\n",
       "    </tr>\n",
       "    <tr>\n",
       "      <th>76699</th>\n",
       "      <td>3063699</td>\n",
       "      <td>1689916</td>\n",
       "      <td>50.00</td>\n",
       "      <td>H</td>\n",
       "      <td>11207</td>\n",
       "      <td>361.0</td>\n",
       "      <td>150.0</td>\n",
       "      <td>visa</td>\n",
       "      <td>226.0</td>\n",
       "      <td>debit</td>\n",
       "      <td>...</td>\n",
       "      <td>1.0</td>\n",
       "      <td>NaN</td>\n",
       "      <td>NaN</td>\n",
       "      <td>NaN</td>\n",
       "      <td>NaN</td>\n",
       "      <td>NaN</td>\n",
       "      <td>NaN</td>\n",
       "      <td>NaN</td>\n",
       "      <td>NaN</td>\n",
       "      <td>NaN</td>\n",
       "    </tr>\n",
       "    <tr>\n",
       "      <th>92991</th>\n",
       "      <td>3079991</td>\n",
       "      <td>1917169</td>\n",
       "      <td>50.00</td>\n",
       "      <td>H</td>\n",
       "      <td>11862</td>\n",
       "      <td>562.0</td>\n",
       "      <td>150.0</td>\n",
       "      <td>visa</td>\n",
       "      <td>226.0</td>\n",
       "      <td>credit</td>\n",
       "      <td>...</td>\n",
       "      <td>1.0</td>\n",
       "      <td>NaN</td>\n",
       "      <td>NaN</td>\n",
       "      <td>NaN</td>\n",
       "      <td>NaN</td>\n",
       "      <td>NaN</td>\n",
       "      <td>NaN</td>\n",
       "      <td>NaN</td>\n",
       "      <td>NaN</td>\n",
       "      <td>NaN</td>\n",
       "    </tr>\n",
       "    <tr>\n",
       "      <th>...</th>\n",
       "      <td>...</td>\n",
       "      <td>...</td>\n",
       "      <td>...</td>\n",
       "      <td>...</td>\n",
       "      <td>...</td>\n",
       "      <td>...</td>\n",
       "      <td>...</td>\n",
       "      <td>...</td>\n",
       "      <td>...</td>\n",
       "      <td>...</td>\n",
       "      <td>...</td>\n",
       "      <td>...</td>\n",
       "      <td>...</td>\n",
       "      <td>...</td>\n",
       "      <td>...</td>\n",
       "      <td>...</td>\n",
       "      <td>...</td>\n",
       "      <td>...</td>\n",
       "      <td>...</td>\n",
       "      <td>...</td>\n",
       "      <td>...</td>\n",
       "    </tr>\n",
       "    <tr>\n",
       "      <th>21271</th>\n",
       "      <td>3008271</td>\n",
       "      <td>562416</td>\n",
       "      <td>335.00</td>\n",
       "      <td>W</td>\n",
       "      <td>12260</td>\n",
       "      <td>236.0</td>\n",
       "      <td>150.0</td>\n",
       "      <td>visa</td>\n",
       "      <td>226.0</td>\n",
       "      <td>debit</td>\n",
       "      <td>...</td>\n",
       "      <td>3.0</td>\n",
       "      <td>T</td>\n",
       "      <td>T</td>\n",
       "      <td>T</td>\n",
       "      <td>M1</td>\n",
       "      <td>T</td>\n",
       "      <td>T</td>\n",
       "      <td>NaN</td>\n",
       "      <td>NaN</td>\n",
       "      <td>NaN</td>\n",
       "    </tr>\n",
       "    <tr>\n",
       "      <th>34014</th>\n",
       "      <td>3021014</td>\n",
       "      <td>845780</td>\n",
       "      <td>57.95</td>\n",
       "      <td>W</td>\n",
       "      <td>9500</td>\n",
       "      <td>321.0</td>\n",
       "      <td>150.0</td>\n",
       "      <td>visa</td>\n",
       "      <td>226.0</td>\n",
       "      <td>debit</td>\n",
       "      <td>...</td>\n",
       "      <td>1.0</td>\n",
       "      <td>T</td>\n",
       "      <td>T</td>\n",
       "      <td>T</td>\n",
       "      <td>NaN</td>\n",
       "      <td>NaN</td>\n",
       "      <td>T</td>\n",
       "      <td>NaN</td>\n",
       "      <td>NaN</td>\n",
       "      <td>NaN</td>\n",
       "    </tr>\n",
       "    <tr>\n",
       "      <th>81355</th>\n",
       "      <td>3068355</td>\n",
       "      <td>1740332</td>\n",
       "      <td>50.00</td>\n",
       "      <td>H</td>\n",
       "      <td>15863</td>\n",
       "      <td>158.0</td>\n",
       "      <td>150.0</td>\n",
       "      <td>visa</td>\n",
       "      <td>226.0</td>\n",
       "      <td>debit</td>\n",
       "      <td>...</td>\n",
       "      <td>1.0</td>\n",
       "      <td>NaN</td>\n",
       "      <td>NaN</td>\n",
       "      <td>NaN</td>\n",
       "      <td>NaN</td>\n",
       "      <td>NaN</td>\n",
       "      <td>NaN</td>\n",
       "      <td>NaN</td>\n",
       "      <td>NaN</td>\n",
       "      <td>NaN</td>\n",
       "    </tr>\n",
       "    <tr>\n",
       "      <th>65720</th>\n",
       "      <td>3052720</td>\n",
       "      <td>1472866</td>\n",
       "      <td>29.00</td>\n",
       "      <td>W</td>\n",
       "      <td>15066</td>\n",
       "      <td>170.0</td>\n",
       "      <td>150.0</td>\n",
       "      <td>mastercard</td>\n",
       "      <td>102.0</td>\n",
       "      <td>credit</td>\n",
       "      <td>...</td>\n",
       "      <td>1.0</td>\n",
       "      <td>T</td>\n",
       "      <td>T</td>\n",
       "      <td>T</td>\n",
       "      <td>M0</td>\n",
       "      <td>T</td>\n",
       "      <td>T</td>\n",
       "      <td>NaN</td>\n",
       "      <td>NaN</td>\n",
       "      <td>NaN</td>\n",
       "    </tr>\n",
       "    <tr>\n",
       "      <th>11627</th>\n",
       "      <td>2998627</td>\n",
       "      <td>339646</td>\n",
       "      <td>100.00</td>\n",
       "      <td>W</td>\n",
       "      <td>9500</td>\n",
       "      <td>321.0</td>\n",
       "      <td>150.0</td>\n",
       "      <td>visa</td>\n",
       "      <td>226.0</td>\n",
       "      <td>debit</td>\n",
       "      <td>...</td>\n",
       "      <td>1.0</td>\n",
       "      <td>NaN</td>\n",
       "      <td>NaN</td>\n",
       "      <td>NaN</td>\n",
       "      <td>M0</td>\n",
       "      <td>F</td>\n",
       "      <td>F</td>\n",
       "      <td>NaN</td>\n",
       "      <td>NaN</td>\n",
       "      <td>NaN</td>\n",
       "    </tr>\n",
       "  </tbody>\n",
       "</table>\n",
       "<p>25000 rows × 35 columns</p>\n",
       "</div>"
      ],
      "text/plain": [
       "       TransactionID  TransactionDT  TransactionAmt ProductCD  card1  card2  \\\n",
       "75721        3062721        1651124           75.00         R   6019  583.0   \n",
       "80184        3067184        1726414          201.00         W   1986  502.0   \n",
       "19864        3006864         515571           58.95         W   7919  194.0   \n",
       "76699        3063699        1689916           50.00         H  11207  361.0   \n",
       "92991        3079991        1917169           50.00         H  11862  562.0   \n",
       "...              ...            ...             ...       ...    ...    ...   \n",
       "21271        3008271         562416          335.00         W  12260  236.0   \n",
       "34014        3021014         845780           57.95         W   9500  321.0   \n",
       "81355        3068355        1740332           50.00         H  15863  158.0   \n",
       "65720        3052720        1472866           29.00         W  15066  170.0   \n",
       "11627        2998627         339646          100.00         W   9500  321.0   \n",
       "\n",
       "       card3       card4  card5   card6  ...  C14   M1   M2   M3   M4   M5  \\\n",
       "75721  150.0        visa  226.0  credit  ...  1.0  NaN  NaN  NaN  NaN  NaN   \n",
       "80184  150.0        visa  226.0  credit  ...  1.0  NaN  NaN  NaN   M0    F   \n",
       "19864  150.0  mastercard  202.0   debit  ...  1.0  NaN  NaN  NaN  NaN  NaN   \n",
       "76699  150.0        visa  226.0   debit  ...  1.0  NaN  NaN  NaN  NaN  NaN   \n",
       "92991  150.0        visa  226.0  credit  ...  1.0  NaN  NaN  NaN  NaN  NaN   \n",
       "...      ...         ...    ...     ...  ...  ...  ...  ...  ...  ...  ...   \n",
       "21271  150.0        visa  226.0   debit  ...  3.0    T    T    T   M1    T   \n",
       "34014  150.0        visa  226.0   debit  ...  1.0    T    T    T  NaN  NaN   \n",
       "81355  150.0        visa  226.0   debit  ...  1.0  NaN  NaN  NaN  NaN  NaN   \n",
       "65720  150.0  mastercard  102.0  credit  ...  1.0    T    T    T   M0    T   \n",
       "11627  150.0        visa  226.0   debit  ...  1.0  NaN  NaN  NaN   M0    F   \n",
       "\n",
       "        M6   M7   M8   M9  \n",
       "75721  NaN  NaN  NaN  NaN  \n",
       "80184    F  NaN  NaN  NaN  \n",
       "19864    T  NaN  NaN  NaN  \n",
       "76699  NaN  NaN  NaN  NaN  \n",
       "92991  NaN  NaN  NaN  NaN  \n",
       "...    ...  ...  ...  ...  \n",
       "21271    T  NaN  NaN  NaN  \n",
       "34014    T  NaN  NaN  NaN  \n",
       "81355  NaN  NaN  NaN  NaN  \n",
       "65720    T  NaN  NaN  NaN  \n",
       "11627    F  NaN  NaN  NaN  \n",
       "\n",
       "[25000 rows x 35 columns]"
      ]
     },
     "execution_count": 99,
     "metadata": {},
     "output_type": "execute_result"
    }
   ],
   "source": [
    "Test"
   ]
  },
  {
   "cell_type": "code",
   "execution_count": 100,
   "metadata": {},
   "outputs": [],
   "source": [
    "Test_X_new=pipeline(input_data=Test, dummy_model=dummy_model, imputer=imputer, features=Train_X.columns)"
   ]
  },
  {
   "cell_type": "code",
   "execution_count": 101,
   "metadata": {},
   "outputs": [
    {
     "data": {
      "text/html": [
       "<div>\n",
       "<style scoped>\n",
       "    .dataframe tbody tr th:only-of-type {\n",
       "        vertical-align: middle;\n",
       "    }\n",
       "\n",
       "    .dataframe tbody tr th {\n",
       "        vertical-align: top;\n",
       "    }\n",
       "\n",
       "    .dataframe thead th {\n",
       "        text-align: right;\n",
       "    }\n",
       "</style>\n",
       "<table border=\"1\" class=\"dataframe\">\n",
       "  <thead>\n",
       "    <tr style=\"text-align: right;\">\n",
       "      <th></th>\n",
       "      <th>TransactionAmt</th>\n",
       "      <th>card1</th>\n",
       "      <th>card2</th>\n",
       "      <th>C1</th>\n",
       "      <th>C2</th>\n",
       "      <th>C4</th>\n",
       "      <th>C5</th>\n",
       "      <th>C6</th>\n",
       "      <th>C7</th>\n",
       "      <th>C8</th>\n",
       "      <th>...</th>\n",
       "      <th>M8_T</th>\n",
       "      <th>M9_결측</th>\n",
       "      <th>M9_T</th>\n",
       "      <th>ProductCD_H</th>\n",
       "      <th>ProductCD_W</th>\n",
       "      <th>ProductCD_R</th>\n",
       "      <th>ProductCD_C</th>\n",
       "      <th>card3_150</th>\n",
       "      <th>card3_185</th>\n",
       "      <th>card5_226</th>\n",
       "    </tr>\n",
       "  </thead>\n",
       "  <tbody>\n",
       "    <tr>\n",
       "      <th>0</th>\n",
       "      <td>4.317488</td>\n",
       "      <td>6019.0</td>\n",
       "      <td>583.0</td>\n",
       "      <td>1.0</td>\n",
       "      <td>1.0</td>\n",
       "      <td>1.0</td>\n",
       "      <td>0.0</td>\n",
       "      <td>1.0</td>\n",
       "      <td>0.0</td>\n",
       "      <td>1.0</td>\n",
       "      <td>...</td>\n",
       "      <td>0.0</td>\n",
       "      <td>1.0</td>\n",
       "      <td>0.0</td>\n",
       "      <td>0.0</td>\n",
       "      <td>0.0</td>\n",
       "      <td>1.0</td>\n",
       "      <td>0.0</td>\n",
       "      <td>1.0</td>\n",
       "      <td>0.0</td>\n",
       "      <td>1.0</td>\n",
       "    </tr>\n",
       "    <tr>\n",
       "      <th>1</th>\n",
       "      <td>5.303305</td>\n",
       "      <td>1986.0</td>\n",
       "      <td>502.0</td>\n",
       "      <td>1.0</td>\n",
       "      <td>1.0</td>\n",
       "      <td>0.0</td>\n",
       "      <td>0.0</td>\n",
       "      <td>1.0</td>\n",
       "      <td>0.0</td>\n",
       "      <td>0.0</td>\n",
       "      <td>...</td>\n",
       "      <td>0.0</td>\n",
       "      <td>1.0</td>\n",
       "      <td>0.0</td>\n",
       "      <td>0.0</td>\n",
       "      <td>1.0</td>\n",
       "      <td>0.0</td>\n",
       "      <td>0.0</td>\n",
       "      <td>1.0</td>\n",
       "      <td>0.0</td>\n",
       "      <td>1.0</td>\n",
       "    </tr>\n",
       "    <tr>\n",
       "      <th>2</th>\n",
       "      <td>4.076690</td>\n",
       "      <td>7919.0</td>\n",
       "      <td>194.0</td>\n",
       "      <td>1.0</td>\n",
       "      <td>2.0</td>\n",
       "      <td>0.0</td>\n",
       "      <td>1.0</td>\n",
       "      <td>0.0</td>\n",
       "      <td>0.0</td>\n",
       "      <td>0.0</td>\n",
       "      <td>...</td>\n",
       "      <td>0.0</td>\n",
       "      <td>1.0</td>\n",
       "      <td>0.0</td>\n",
       "      <td>0.0</td>\n",
       "      <td>1.0</td>\n",
       "      <td>0.0</td>\n",
       "      <td>0.0</td>\n",
       "      <td>1.0</td>\n",
       "      <td>0.0</td>\n",
       "      <td>0.0</td>\n",
       "    </tr>\n",
       "    <tr>\n",
       "      <th>3</th>\n",
       "      <td>3.912023</td>\n",
       "      <td>11207.0</td>\n",
       "      <td>361.0</td>\n",
       "      <td>1.0</td>\n",
       "      <td>1.0</td>\n",
       "      <td>1.0</td>\n",
       "      <td>0.0</td>\n",
       "      <td>1.0</td>\n",
       "      <td>0.0</td>\n",
       "      <td>1.0</td>\n",
       "      <td>...</td>\n",
       "      <td>0.0</td>\n",
       "      <td>1.0</td>\n",
       "      <td>0.0</td>\n",
       "      <td>1.0</td>\n",
       "      <td>0.0</td>\n",
       "      <td>0.0</td>\n",
       "      <td>0.0</td>\n",
       "      <td>1.0</td>\n",
       "      <td>0.0</td>\n",
       "      <td>1.0</td>\n",
       "    </tr>\n",
       "    <tr>\n",
       "      <th>4</th>\n",
       "      <td>3.912023</td>\n",
       "      <td>11862.0</td>\n",
       "      <td>562.0</td>\n",
       "      <td>1.0</td>\n",
       "      <td>1.0</td>\n",
       "      <td>1.0</td>\n",
       "      <td>0.0</td>\n",
       "      <td>1.0</td>\n",
       "      <td>0.0</td>\n",
       "      <td>1.0</td>\n",
       "      <td>...</td>\n",
       "      <td>0.0</td>\n",
       "      <td>1.0</td>\n",
       "      <td>0.0</td>\n",
       "      <td>1.0</td>\n",
       "      <td>0.0</td>\n",
       "      <td>0.0</td>\n",
       "      <td>0.0</td>\n",
       "      <td>1.0</td>\n",
       "      <td>0.0</td>\n",
       "      <td>1.0</td>\n",
       "    </tr>\n",
       "    <tr>\n",
       "      <th>...</th>\n",
       "      <td>...</td>\n",
       "      <td>...</td>\n",
       "      <td>...</td>\n",
       "      <td>...</td>\n",
       "      <td>...</td>\n",
       "      <td>...</td>\n",
       "      <td>...</td>\n",
       "      <td>...</td>\n",
       "      <td>...</td>\n",
       "      <td>...</td>\n",
       "      <td>...</td>\n",
       "      <td>...</td>\n",
       "      <td>...</td>\n",
       "      <td>...</td>\n",
       "      <td>...</td>\n",
       "      <td>...</td>\n",
       "      <td>...</td>\n",
       "      <td>...</td>\n",
       "      <td>...</td>\n",
       "      <td>...</td>\n",
       "      <td>...</td>\n",
       "    </tr>\n",
       "    <tr>\n",
       "      <th>24995</th>\n",
       "      <td>5.814131</td>\n",
       "      <td>12260.0</td>\n",
       "      <td>236.0</td>\n",
       "      <td>4.0</td>\n",
       "      <td>1.0</td>\n",
       "      <td>0.0</td>\n",
       "      <td>0.0</td>\n",
       "      <td>1.0</td>\n",
       "      <td>0.0</td>\n",
       "      <td>0.0</td>\n",
       "      <td>...</td>\n",
       "      <td>0.0</td>\n",
       "      <td>1.0</td>\n",
       "      <td>0.0</td>\n",
       "      <td>0.0</td>\n",
       "      <td>1.0</td>\n",
       "      <td>0.0</td>\n",
       "      <td>0.0</td>\n",
       "      <td>1.0</td>\n",
       "      <td>0.0</td>\n",
       "      <td>1.0</td>\n",
       "    </tr>\n",
       "    <tr>\n",
       "      <th>24996</th>\n",
       "      <td>4.059581</td>\n",
       "      <td>9500.0</td>\n",
       "      <td>321.0</td>\n",
       "      <td>1.0</td>\n",
       "      <td>1.0</td>\n",
       "      <td>0.0</td>\n",
       "      <td>1.0</td>\n",
       "      <td>1.0</td>\n",
       "      <td>0.0</td>\n",
       "      <td>0.0</td>\n",
       "      <td>...</td>\n",
       "      <td>0.0</td>\n",
       "      <td>1.0</td>\n",
       "      <td>0.0</td>\n",
       "      <td>0.0</td>\n",
       "      <td>1.0</td>\n",
       "      <td>0.0</td>\n",
       "      <td>0.0</td>\n",
       "      <td>1.0</td>\n",
       "      <td>0.0</td>\n",
       "      <td>1.0</td>\n",
       "    </tr>\n",
       "    <tr>\n",
       "      <th>24997</th>\n",
       "      <td>3.912023</td>\n",
       "      <td>15863.0</td>\n",
       "      <td>158.0</td>\n",
       "      <td>1.0</td>\n",
       "      <td>1.0</td>\n",
       "      <td>1.0</td>\n",
       "      <td>0.0</td>\n",
       "      <td>1.0</td>\n",
       "      <td>0.0</td>\n",
       "      <td>1.0</td>\n",
       "      <td>...</td>\n",
       "      <td>0.0</td>\n",
       "      <td>1.0</td>\n",
       "      <td>0.0</td>\n",
       "      <td>1.0</td>\n",
       "      <td>0.0</td>\n",
       "      <td>0.0</td>\n",
       "      <td>0.0</td>\n",
       "      <td>1.0</td>\n",
       "      <td>0.0</td>\n",
       "      <td>1.0</td>\n",
       "    </tr>\n",
       "    <tr>\n",
       "      <th>24998</th>\n",
       "      <td>3.367296</td>\n",
       "      <td>15066.0</td>\n",
       "      <td>170.0</td>\n",
       "      <td>1.0</td>\n",
       "      <td>1.0</td>\n",
       "      <td>0.0</td>\n",
       "      <td>0.0</td>\n",
       "      <td>1.0</td>\n",
       "      <td>0.0</td>\n",
       "      <td>0.0</td>\n",
       "      <td>...</td>\n",
       "      <td>0.0</td>\n",
       "      <td>1.0</td>\n",
       "      <td>0.0</td>\n",
       "      <td>0.0</td>\n",
       "      <td>1.0</td>\n",
       "      <td>0.0</td>\n",
       "      <td>0.0</td>\n",
       "      <td>1.0</td>\n",
       "      <td>0.0</td>\n",
       "      <td>0.0</td>\n",
       "    </tr>\n",
       "    <tr>\n",
       "      <th>24999</th>\n",
       "      <td>4.605170</td>\n",
       "      <td>9500.0</td>\n",
       "      <td>321.0</td>\n",
       "      <td>2.0</td>\n",
       "      <td>2.0</td>\n",
       "      <td>0.0</td>\n",
       "      <td>0.0</td>\n",
       "      <td>0.0</td>\n",
       "      <td>0.0</td>\n",
       "      <td>0.0</td>\n",
       "      <td>...</td>\n",
       "      <td>0.0</td>\n",
       "      <td>1.0</td>\n",
       "      <td>0.0</td>\n",
       "      <td>0.0</td>\n",
       "      <td>1.0</td>\n",
       "      <td>0.0</td>\n",
       "      <td>0.0</td>\n",
       "      <td>1.0</td>\n",
       "      <td>0.0</td>\n",
       "      <td>1.0</td>\n",
       "    </tr>\n",
       "  </tbody>\n",
       "</table>\n",
       "<p>25000 rows × 46 columns</p>\n",
       "</div>"
      ],
      "text/plain": [
       "       TransactionAmt    card1  card2   C1   C2   C4   C5   C6   C7   C8  ...  \\\n",
       "0            4.317488   6019.0  583.0  1.0  1.0  1.0  0.0  1.0  0.0  1.0  ...   \n",
       "1            5.303305   1986.0  502.0  1.0  1.0  0.0  0.0  1.0  0.0  0.0  ...   \n",
       "2            4.076690   7919.0  194.0  1.0  2.0  0.0  1.0  0.0  0.0  0.0  ...   \n",
       "3            3.912023  11207.0  361.0  1.0  1.0  1.0  0.0  1.0  0.0  1.0  ...   \n",
       "4            3.912023  11862.0  562.0  1.0  1.0  1.0  0.0  1.0  0.0  1.0  ...   \n",
       "...               ...      ...    ...  ...  ...  ...  ...  ...  ...  ...  ...   \n",
       "24995        5.814131  12260.0  236.0  4.0  1.0  0.0  0.0  1.0  0.0  0.0  ...   \n",
       "24996        4.059581   9500.0  321.0  1.0  1.0  0.0  1.0  1.0  0.0  0.0  ...   \n",
       "24997        3.912023  15863.0  158.0  1.0  1.0  1.0  0.0  1.0  0.0  1.0  ...   \n",
       "24998        3.367296  15066.0  170.0  1.0  1.0  0.0  0.0  1.0  0.0  0.0  ...   \n",
       "24999        4.605170   9500.0  321.0  2.0  2.0  0.0  0.0  0.0  0.0  0.0  ...   \n",
       "\n",
       "       M8_T  M9_결측  M9_T  ProductCD_H  ProductCD_W  ProductCD_R  ProductCD_C  \\\n",
       "0       0.0    1.0   0.0          0.0          0.0          1.0          0.0   \n",
       "1       0.0    1.0   0.0          0.0          1.0          0.0          0.0   \n",
       "2       0.0    1.0   0.0          0.0          1.0          0.0          0.0   \n",
       "3       0.0    1.0   0.0          1.0          0.0          0.0          0.0   \n",
       "4       0.0    1.0   0.0          1.0          0.0          0.0          0.0   \n",
       "...     ...    ...   ...          ...          ...          ...          ...   \n",
       "24995   0.0    1.0   0.0          0.0          1.0          0.0          0.0   \n",
       "24996   0.0    1.0   0.0          0.0          1.0          0.0          0.0   \n",
       "24997   0.0    1.0   0.0          1.0          0.0          0.0          0.0   \n",
       "24998   0.0    1.0   0.0          0.0          1.0          0.0          0.0   \n",
       "24999   0.0    1.0   0.0          0.0          1.0          0.0          0.0   \n",
       "\n",
       "       card3_150  card3_185  card5_226  \n",
       "0            1.0        0.0        1.0  \n",
       "1            1.0        0.0        1.0  \n",
       "2            1.0        0.0        0.0  \n",
       "3            1.0        0.0        1.0  \n",
       "4            1.0        0.0        1.0  \n",
       "...          ...        ...        ...  \n",
       "24995        1.0        0.0        1.0  \n",
       "24996        1.0        0.0        1.0  \n",
       "24997        1.0        0.0        1.0  \n",
       "24998        1.0        0.0        0.0  \n",
       "24999        1.0        0.0        1.0  \n",
       "\n",
       "[25000 rows x 46 columns]"
      ]
     },
     "execution_count": 101,
     "metadata": {},
     "output_type": "execute_result"
    }
   ],
   "source": [
    "Test_X_new"
   ]
  },
  {
   "cell_type": "markdown",
   "metadata": {},
   "source": [
    "## 예측"
   ]
  },
  {
   "cell_type": "code",
   "execution_count": 143,
   "metadata": {},
   "outputs": [],
   "source": [
    "prob_rf=RF_best.predict_proba(Test_X_new)\n",
    "prob_lgb=lgb_best.predict_proba(Test_X_new)\n"
   ]
  },
  {
   "cell_type": "code",
   "execution_count": 144,
   "metadata": {},
   "outputs": [
    {
     "data": {
      "text/plain": [
       "array([[0.99318278, 0.00681722],\n",
       "       [0.9718912 , 0.0281088 ],\n",
       "       [0.9934805 , 0.0065195 ],\n",
       "       ...,\n",
       "       [0.99265844, 0.00734156],\n",
       "       [0.97532166, 0.02467834],\n",
       "       [0.97796626, 0.02203374]])"
      ]
     },
     "execution_count": 144,
     "metadata": {},
     "output_type": "execute_result"
    }
   ],
   "source": [
    "prob_rf"
   ]
  },
  {
   "cell_type": "code",
   "execution_count": 148,
   "metadata": {},
   "outputs": [],
   "source": [
    "prob_1_rf=pd.DataFrame(prob_rf).iloc[:,1]\n",
    "prob_1_lgb=pd.DataFrame(prob_lgb).iloc[:,1]\n",
    "\n",
    "prob_1_voting=0.1*prob_1_rf+0.9*prob_1_lgb"
   ]
  },
  {
   "cell_type": "code",
   "execution_count": 149,
   "metadata": {},
   "outputs": [
    {
     "data": {
      "text/plain": [
       "0        0.006817\n",
       "1        0.028109\n",
       "2        0.006519\n",
       "3        0.007427\n",
       "4        0.007392\n",
       "           ...   \n",
       "24995    0.020287\n",
       "24996    0.006205\n",
       "24997    0.007342\n",
       "24998    0.024678\n",
       "24999    0.022034\n",
       "Name: 1, Length: 25000, dtype: float64"
      ]
     },
     "execution_count": 149,
     "metadata": {},
     "output_type": "execute_result"
    }
   ],
   "source": [
    "prob_1_rf"
   ]
  },
  {
   "cell_type": "code",
   "execution_count": 150,
   "metadata": {},
   "outputs": [
    {
     "data": {
      "text/plain": [
       "0        0.001359\n",
       "1        0.054735\n",
       "2        0.001271\n",
       "3        0.003201\n",
       "4        0.002878\n",
       "           ...   \n",
       "24995    0.003502\n",
       "24996    0.003881\n",
       "24997    0.008552\n",
       "24998    0.008373\n",
       "24999    0.021566\n",
       "Name: 1, Length: 25000, dtype: float64"
      ]
     },
     "execution_count": 150,
     "metadata": {},
     "output_type": "execute_result"
    }
   ],
   "source": [
    "prob_1_voting"
   ]
  },
  {
   "cell_type": "code",
   "execution_count": 151,
   "metadata": {},
   "outputs": [
    {
     "data": {
      "text/plain": [
       "75721    0\n",
       "80184    0\n",
       "19864    0\n",
       "76699    0\n",
       "92991    0\n",
       "        ..\n",
       "21271    0\n",
       "34014    0\n",
       "81355    0\n",
       "65720    0\n",
       "11627    0\n",
       "Name: isFraud, Length: 25000, dtype: int64"
      ]
     },
     "execution_count": 151,
     "metadata": {},
     "output_type": "execute_result"
    }
   ],
   "source": [
    "Test_Y"
   ]
  },
  {
   "cell_type": "markdown",
   "metadata": {},
   "source": [
    "## 평가"
   ]
  },
  {
   "cell_type": "code",
   "execution_count": 152,
   "metadata": {},
   "outputs": [
    {
     "name": "stdout",
     "output_type": "stream",
     "text": [
      "RF_ROC_AUC_score: 0.8581719672596273\n",
      "lgb_ROC_AUC_score: 0.9183585697979225\n",
      "vot_ROC_AUC_score: 0.9181319809049386\n"
     ]
    }
   ],
   "source": [
    "from sklearn.metrics import roc_auc_score\n",
    "\n",
    "print('RF_ROC_AUC_score:',roc_auc_score(Test_Y,prob_1_rf))\n",
    "print('lgb_ROC_AUC_score:',roc_auc_score(Test_Y,prob_1_lgb))\n",
    "print('vot_ROC_AUC_score:',roc_auc_score(Test_Y,prob_1_voting))"
   ]
  },
  {
   "cell_type": "code",
   "execution_count": null,
   "metadata": {},
   "outputs": [],
   "source": []
  }
 ],
 "metadata": {
  "kernelspec": {
   "display_name": "Python 3",
   "language": "python",
   "name": "python3"
  },
  "language_info": {
   "codemirror_mode": {
    "name": "ipython",
    "version": 3
   },
   "file_extension": ".py",
   "mimetype": "text/x-python",
   "name": "python",
   "nbconvert_exporter": "python",
   "pygments_lexer": "ipython3",
   "version": "3.8.5"
  }
 },
 "nbformat": 4,
 "nbformat_minor": 4
}
