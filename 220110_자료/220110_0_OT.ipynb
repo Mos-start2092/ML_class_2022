{
 "cells": [
  {
   "cell_type": "markdown",
   "metadata": {},
   "source": [
    "# OT"
   ]
  },
  {
   "cell_type": "markdown",
   "metadata": {},
   "source": [
    "## 수업의 목적"
   ]
  },
  {
   "cell_type": "markdown",
   "metadata": {},
   "source": [
    "### - 머신러닝에 대한 이해 및 경험\n",
    "매년 새로운 논문과 머신러닝 기법이 나오며, 데이터와 상황에 따라서 사용할 수 있는 모델 및 적용방법이 상이. 그러므로, 당장 코드만 공유해서 좋은 모델을 실행해보는 형식보다는 머신러닝의 과정을 큰 흐름으로 이해하고 경험을 가지는 것을 목표로 진행.\n",
    "\n",
    "### - 스스로 시중의 책을 보고 공부할 수 있는 역량\n",
    "30시간이라는 단 시간내에 공부하는 만큼 시중 책에 있는 모든 것을 공부할 수는 없음. 필요한 부분만 수업을 진행하나, 전체적인 흐름 파악을 통해서 스스로 공부할 수 있는 역량을 키우는 것을 목표로 진행. \n",
    "\n",
    "### - 주의점 \n",
    "    - 실제 분석을 원활하게 하기 위해서는 수업 내용이외에 코딩 공부가 필요함(물론, 개발자만큼은 x) -> 구글링 및 다른 교재를 통한 공부 필요\n",
    "    - 수학적 & 통계적 개념을 기반으로 해야하지만 수업의 특성상 직관위주로 진행 (데이터 자체가 행렬, 결정나무를 제외한 모델들은 기본적으로 수학 & 통계적 베이스를 기반으로 함)"
   ]
  },
  {
   "cell_type": "code",
   "execution_count": null,
   "metadata": {},
   "outputs": [],
   "source": []
  },
  {
   "cell_type": "markdown",
   "metadata": {},
   "source": []
  },
  {
   "cell_type": "markdown",
   "metadata": {},
   "source": [
    "## 커리큘럼 설명\n",
    "### 1주차 : OT, 머신러닝의 개념 & 예제, numpy & pandas 등 기본 라이브러리 기초\n",
    "### 2주차 : 기본 파이썬 라이브러리를 활용한 EDA & Preprocessing ( 데이터 탐색 및 전처리) \n",
    "### 3~4 주차 : 기본 머신러닝 모델(분류 결정 나무)을 활용한 실제 데이터 실습\n",
    "### 5주차 : 회귀에 대한 공부 및 적용사례 공부\n",
    "### 6주차 : 고급모델 이론 공부 및 실제 공모전 데이터 사례에 적용"
   ]
  },
  {
   "cell_type": "code",
   "execution_count": null,
   "metadata": {},
   "outputs": [],
   "source": []
  },
  {
   "cell_type": "markdown",
   "metadata": {},
   "source": [
    "# 깃허브 주소:\n",
    "https://github.com/Mos-start2092/ML_class_2022"
   ]
  },
  {
   "cell_type": "markdown",
   "metadata": {},
   "source": [
    "### 직접 실습을 해보는 것이 제일 좋지만, 시간이 안되거나 한 경우 파일을 그대로 다운로드해서 사용가능"
   ]
  },
  {
   "cell_type": "code",
   "execution_count": null,
   "metadata": {},
   "outputs": [],
   "source": []
  },
  {
   "cell_type": "markdown",
   "metadata": {},
   "source": [
    "## * 녹화된 수업 영상은 클라우드 주소와 비밀 번호가 매 수업 이후 단톡방에 공유될 예정. 참여 불가시 동영상 시청으로 대체가능"
   ]
  },
  {
   "cell_type": "code",
   "execution_count": null,
   "metadata": {},
   "outputs": [],
   "source": []
  }
 ],
 "metadata": {
  "kernelspec": {
   "display_name": "Python 3",
   "language": "python",
   "name": "python3"
  },
  "language_info": {
   "codemirror_mode": {
    "name": "ipython",
    "version": 3
   },
   "file_extension": ".py",
   "mimetype": "text/x-python",
   "name": "python",
   "nbconvert_exporter": "python",
   "pygments_lexer": "ipython3",
   "version": "3.8.5"
  }
 },
 "nbformat": 4,
 "nbformat_minor": 4
}
